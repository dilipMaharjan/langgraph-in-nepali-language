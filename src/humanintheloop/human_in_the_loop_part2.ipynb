{
 "cells": [
  {
   "cell_type": "code",
   "execution_count": 1,
   "id": "d02386a7",
   "metadata": {},
   "outputs": [
    {
     "data": {
      "text/plain": [
       "AIMessage(content='Howdy back atcha. What can I help you with today?', additional_kwargs={}, response_metadata={'token_usage': {'completion_tokens': 15, 'prompt_tokens': 37, 'total_tokens': 52, 'completion_time': 0.016016573, 'prompt_time': 0.00234807, 'queue_time': 0.216644317, 'total_time': 0.018364643}, 'model_name': 'llama-3.1-8b-instant', 'system_fingerprint': 'fp_e32974efee', 'finish_reason': 'stop', 'logprobs': None}, id='run--499caed9-3c5e-457a-8012-fe98ba52d621-0', usage_metadata={'input_tokens': 37, 'output_tokens': 15, 'total_tokens': 52})"
      ]
     },
     "execution_count": 1,
     "metadata": {},
     "output_type": "execute_result"
    }
   ],
   "source": [
    "import os\n",
    "from dotenv import load_dotenv\n",
    "\n",
    "load_dotenv()\n",
    "\n",
    "os.environ[\"GROOQ_API_KEY\"] = os.getenv(\"GROQ_API_KEY\")\n",
    "\n",
    "from langchain_groq import ChatGroq\n",
    "\n",
    "llm = ChatGroq(model_name=\"llama-3.1-8b-instant\", temperature=0)\n",
    "\n",
    "result=llm.invoke(\"Howdy\")\n",
    "result"
   ]
  },
  {
   "cell_type": "code",
   "execution_count": 2,
   "id": "a504f9fa",
   "metadata": {},
   "outputs": [],
   "source": [
    "def add(a: float, b: float):\n",
    "    \"\"\"Adds two numbers.\"\"\"\n",
    "    return a + b\n",
    "def subtract(a: float, b: float):\n",
    "    \"\"\"Subtracts two numbers.\"\"\"\n",
    "    return a - b\n",
    "def multiply(a: float, b: float):\n",
    "    \"\"\"Multiplies two numbers.\"\"\"\n",
    "    return a * b\n",
    "def divide(a: float, b: float):\n",
    "    \"\"\"Divides two numbers.\"\"\"\n",
    "    return a / b"
   ]
  },
  {
   "cell_type": "code",
   "execution_count": 3,
   "id": "84075f7b",
   "metadata": {},
   "outputs": [
    {
     "data": {
      "image/png": "[encoded data removed]",
      "text/plain": [
       "<IPython.core.display.Image object>"
      ]
     },
     "metadata": {},
     "output_type": "display_data"
    }
   ],
   "source": [
    "from langgraph.graph import StateGraph, START, END, MessagesState\n",
    "from langchain_core.messages import SystemMessage, HumanMessage\n",
    "from langgraph.checkpoint.memory import MemorySaver\n",
    "from langgraph.prebuilt import ToolNode,tools_condition\n",
    "from IPython.display import Image, display\n",
    "\n",
    "#Bind tools\n",
    "tools=[add,subtract,multiply,divide]\n",
    "llm_tool=llm.bind_tools(tools)\n",
    "\n",
    "# System message prompt\n",
    "system_message = SystemMessage(content=\"You are a helpful assistant. You help do a simple arithmetic.\")\n",
    "\n",
    "# ---- Node Function ----\n",
    "def human_feedback(state: MessagesState):\n",
    "    pass\n",
    "def perform_task(state: MessagesState):\n",
    "    return {\"messages\":[llm_tool.invoke([system_message] + state[\"messages\"])]}\n",
    "\n",
    "\n",
    "\n",
    "# ---- Build the Graph ----\n",
    "builder = StateGraph(MessagesState)\n",
    "\n",
    "# Nodes \n",
    "builder.add_node(\"perform_task\", perform_task)\n",
    "builder.add_node(\"tools\", ToolNode(tools))\n",
    "builder.add_node(\"human_feedback\", human_feedback)\n",
    "\n",
    "# Edges\n",
    "builder.add_edge(START, \"human_feedback\")\n",
    "builder.add_edge(\"human_feedback\", \"perform_task\")\n",
    "builder.add_conditional_edges(\n",
    "    \"perform_task\", \n",
    "    tools_condition,\n",
    "    )\n",
    "builder.add_edge(\"tools\", \"human_feedback\")\n",
    "\n",
    "\n",
    "# Memory saver\n",
    "memory = MemorySaver()\n",
    "\n",
    "# Compile with interrupt_before if needed\n",
    "graph = builder.compile(interrupt_before=[\"human_feedback\"], checkpointer=memory)\n",
    "\n",
    "# Show\n",
    "display(Image(graph.get_graph().draw_mermaid_png()))\n"
   ]
  },
  {
   "cell_type": "code",
   "execution_count": 4,
   "id": "38238b8b",
   "metadata": {},
   "outputs": [
    {
     "name": "stdout",
     "output_type": "stream",
     "text": [
      "================================\u001b[1m Human Message \u001b[0m=================================\n",
      "\n",
      "Add 5 and 6.\n",
      "================================\u001b[1m Human Message \u001b[0m=================================\n",
      "\n",
      "can you please add 8 and 9\n",
      "==================================\u001b[1m Ai Message \u001b[0m==================================\n",
      "Tool Calls:\n",
      "  add (efbr99njd)\n",
      " Call ID: efbr99njd\n",
      "  Args:\n",
      "    a: 8\n",
      "    b: 9\n",
      "=================================\u001b[1m Tool Message \u001b[0m=================================\n",
      "Name: add\n",
      "\n",
      "17.0\n"
     ]
    }
   ],
   "source": [
    "import uuid\n",
    "# ---- thread config ----\n",
    "config = {\n",
    "    \"configurable\": {\n",
    "        \"thread_id\": str(uuid.uuid4())  # generates a new, unique thread ID\n",
    "    }\n",
    "}\n",
    "\n",
    "\n",
    "# Initial task\n",
    "task = {\"messages\": HumanMessage(content=\"Add 5 and 6.\")}\n",
    "\n",
    "# Streaming response\n",
    "for event in graph.stream(task, config, stream_mode=\"values\"):\n",
    "    event[\"messages\"][-1].pretty_print()\n",
    "    \n",
    "user_input=input(\"Please let me know if you want to modify the instruction\")\n",
    "graph.update_state(config,{\"messages\": user_input}, as_node=\"human_feedback\")\n",
    "#Continue execution after feedback\n",
    "for event in graph.stream(None, config, stream_mode=\"values\"):\n",
    "    event[\"messages\"][-1].pretty_print()"
   ]
  },
  {
   "cell_type": "code",
   "execution_count": 5,
   "id": "4c7f3daf",
   "metadata": {},
   "outputs": [
    {
     "name": "stdout",
     "output_type": "stream",
     "text": [
      "=================================\u001b[1m Tool Message \u001b[0m=================================\n",
      "Name: add\n",
      "\n",
      "17.0\n",
      "==================================\u001b[1m Ai Message \u001b[0m==================================\n",
      "Tool Calls:\n",
      "  add (g7q12b1cj)\n",
      " Call ID: g7q12b1cj\n",
      "  Args:\n",
      "    a: 5\n",
      "    b: 6\n",
      "=================================\u001b[1m Tool Message \u001b[0m=================================\n",
      "Name: add\n",
      "\n",
      "11.0\n"
     ]
    }
   ],
   "source": [
    "#Continue execution to end\n",
    "for event in graph.stream(None, config, stream_mode=\"values\"):\n",
    "    event[\"messages\"][-1].pretty_print()"
   ]
  }
 ],
 "metadata": {
  "kernelspec": {
   "display_name": "langraph",
   "language": "python",
   "name": "python3"
  },
  "language_info": {
   "codemirror_mode": {
    "name": "ipython",
    "version": 3
   },
   "file_extension": ".py",
   "mimetype": "text/x-python",
   "name": "python",
   "nbconvert_exporter": "python",
   "pygments_lexer": "ipython3",
   "version": "3.13.0"
  }
 },
 "nbformat": 4,
 "nbformat_minor": 5
}
