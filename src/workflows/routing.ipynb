{
 "cells": [
  {
   "cell_type": "code",
   "execution_count": 14,
   "id": "17a04434",
   "metadata": {},
   "outputs": [
    {
     "data": {
      "text/plain": [
       "AIMessage(content='Howdy back atcha. What can I do for ya today?', additional_kwargs={}, response_metadata={'token_usage': {'completion_tokens': 15, 'prompt_tokens': 37, 'total_tokens': 52, 'completion_time': 0.763241351, 'prompt_time': 0.322578681, 'queue_time': 0.215650309, 'total_time': 1.085820032}, 'model_name': 'llama-3.1-8b-instant', 'system_fingerprint': 'fp_55d70a61e4', 'finish_reason': 'stop', 'logprobs': None}, id='run--1f25cf73-e77f-40c5-ac17-90888a167fa0-0', usage_metadata={'input_tokens': 37, 'output_tokens': 15, 'total_tokens': 52})"
      ]
     },
     "execution_count": 14,
     "metadata": {},
     "output_type": "execute_result"
    }
   ],
   "source": [
    "import os\n",
    "from dotenv import load_dotenv\n",
    "\n",
    "load_dotenv()\n",
    "\n",
    "os.environ[\"GROOQ_API_KEY\"] = os.getenv(\"GROQ_API_KEY\")\n",
    "\n",
    "from langchain_groq import ChatGroq\n",
    "llm=ChatGroq(model_name=\"llama-3.1-8b-instant\",temperature=0.7)\n",
    "\n",
    "result=llm.invoke(\"Howdy\")\n",
    "result"
   ]
  },
  {
   "cell_type": "code",
   "execution_count": 15,
   "id": "26f48330",
   "metadata": {},
   "outputs": [],
   "source": [
    "from typing_extensions import Literal, TypedDict\n",
    "from pydantic import BaseModel,Field\n",
    "from langchain_core.messages import HumanMessage,SystemMessage\n",
    "\n",
    "#Schema for structured output to use a routing logic\n",
    "class Route(BaseModel):\n",
    "    step: Literal[\"poem\",\"story\",\"joke\"]=Field(\n",
    "        description=\"The next step in the routing process\")\n",
    "\n",
    "# Augment LLM with Structured Output\n",
    "router=llm.with_structured_output(Route)\n",
    "\n",
    "# State\n",
    "class State(TypedDict):\n",
    "    input: str\n",
    "    decision: str\n",
    "    output: str\n",
    "    \n",
    "# Nodes\n",
    "def llm_call_story(state:State):\n",
    "    \"\"\"Write a story\"\"\"\n",
    "    \n",
    "    result=llm.invoke(state[\"input\"])\n",
    "    return {\"output\":result.content}\n",
    "\n",
    "def llm_call_joke(state:State):\n",
    "    \"\"\"Write a joke\"\"\"\n",
    "    \n",
    "    result=llm.invoke(state[\"input\"])\n",
    "    return {\"output\":result.content}\n",
    "\n",
    "def llm_call_poem(state:State):\n",
    "    \"\"\"Write a poem\"\"\"\n",
    "    \n",
    "    result=llm.invoke(state[\"input\"])\n",
    "    return {\"output\":result.content}\n",
    "\n",
    "\n",
    "def llm_call_router(state:State):\n",
    "    \"\"\"Route the input to appropriate node\"\"\"\n",
    "    \n",
    "    decision=router.invoke(\n",
    "        [\n",
    "            SystemMessage(\n",
    "                content=\"Route the input to story, joke or poem based on the users request.\"\n",
    "            ),\n",
    "            HumanMessage(content=state[\"input\"])\n",
    "        ]\n",
    "    )\n",
    "    return {\"decision\":decision.step}\n",
    "\n",
    "# Condtion edge function to route to the appropriate node\n",
    "\n",
    "def route_decision(state:State):\n",
    "    # Return the node name you want to visit next\n",
    "    if state[\"decision\"]==\"story\":\n",
    "        return \"llm_call_story\"\n",
    "    elif state[\"decision\"]==\"joke\":\n",
    "        return \"llm_call_joke\"\n",
    "    elif state[\"decision\"]==\"poem\":\n",
    "        return \"llm_call_poem\"   "
   ]
  },
  {
   "cell_type": "code",
   "execution_count": 16,
   "id": "7860a586",
   "metadata": {},
   "outputs": [
    {
     "data": {
      "image/png": "[encoded data removed]",
      "text/plain": [
       "<IPython.core.display.Image object>"
      ]
     },
     "metadata": {},
     "output_type": "display_data"
    }
   ],
   "source": [
    "# Build Graph\n",
    "from langgraph.graph import StateGraph,START,END\n",
    "from IPython.display import display,Image\n",
    "\n",
    "graph=StateGraph(State)\n",
    "\n",
    "#Add nodes\n",
    "graph.add_node(\"llm_call_story\",llm_call_story)\n",
    "graph.add_node(\"llm_call_joke\",llm_call_joke)\n",
    "graph.add_node(\"llm_call_poem\",llm_call_poem)\n",
    "graph.add_node(\"llm_call_router\",llm_call_router)\n",
    "\n",
    "#Add edges\n",
    "graph.add_edge(START,\"llm_call_router\")\n",
    "graph.add_conditional_edges(\n",
    "                            \"llm_call_router\"\n",
    "                            ,route_decision,\n",
    "                            # Name returned by the route_decision : Name of next node to visit\n",
    "                            {\n",
    "                                \"llm_call_story\":\"llm_call_story\",\n",
    "                                \"llm_call_joke\":\"llm_call_joke\",\n",
    "                                \"llm_call_poem\":\"llm_call_poem\"\n",
    "                            }\n",
    "                            )\n",
    "graph.add_edge(\"llm_call_story\",END)\n",
    "graph.add_edge(\"llm_call_joke\",END)\n",
    "graph.add_edge(\"llm_call_poem\",END) \n",
    "\n",
    "graph=graph.compile()\n",
    "graph_image=graph.get_graph().draw_mermaid_png()\n",
    "display(Image(graph_image))"
   ]
  },
  {
   "cell_type": "code",
   "execution_count": 17,
   "id": "521f7fb0",
   "metadata": {},
   "outputs": [
    {
     "data": {
      "text/plain": [
       "{'input': 'Write me a story',\n",
       " 'decision': 'story',\n",
       " 'output': 'Once upon a time, in a small village nestled in the rolling hills of England, there lived a young girl named Emily. She was a dreamer, with a heart full of wonder and a mind full of curiosity. Emily loved nothing more than to spend her days exploring the countryside, discovering hidden streams and secret meadows, and watching the clouds roll by.\\n\\nOne day, while wandering through the village, Emily stumbled upon a small, mysterious shop. The sign above the door read \"Curios and Wonders,\" and the windows were filled with a dazzling array of strange and exotic objects. Emily\\'s eyes widened as she pushed open the door and stepped inside.\\n\\nThe shop was dimly lit, with shelves upon shelves of peculiar items. There were vintage dolls, antique clocks, and rare books, each one more fascinating than the last. Emily wandered the aisles, running her fingers over the intricate carvings on a wooden cabinet, and marveling at the glowing colors of a crystal pendant.\\n\\nAs she explored, Emily came across an old, bespectacled man, who introduced himself as Mr. Jenkins. He was the proprietor of the shop, and he seemed to know everything there was to know about the strange and wonderful objects that filled his store.\\n\\n\"Welcome, young one,\" Mr. Jenkins said, with a warm smile. \"I see you have a taste for the extraordinary. Come, let me show you something truly special.\"\\n\\nHe led Emily to a shelf in the back of the shop, where a single, leather-bound book lay open on a velvet pedestal. The pages were filled with intricate drawings, and a small, golden key lay nestled in the center of the book.\\n\\n\"This,\" Mr. Jenkins said, his eyes twinkling with excitement, \"is a journal from the great adventurer, Captain James. He traveled the world, discovering hidden treasures and unlocking secret doors. This book is said to contain the key to a door that leads to a place beyond the ordinary.\"\\n\\nEmily\\'s eyes grew wide as she gazed at the journal, feeling a thrill of excitement. She had always been drawn to adventure, and the idea of unlocking a secret door was too enticing to resist.\\n\\nMr. Jenkins smiled, as if he knew exactly what was going through Emily\\'s mind. \"I think you\\'ll find the journey quite...enlightening,\" he said, with a knowing glance.\\n\\nAnd with that, Emily\\'s life was forever changed. She spent the next few weeks poring over the journal, studying the drawings and deciphering the cryptic notes. She discovered hidden symbols and codes, and slowly but surely, the secrets of the journal began to reveal themselves.\\n\\nFinally, the day arrived when Emily felt ready to unlock the door. She stood before a large, stone wall in the village, the golden key clutched tightly in her hand. With a deep breath, she inserted the key into a small keyhole, and turned it with a satisfying click.\\n\\nThe stone wall began to glow, and a hidden door swung open, revealing a narrow stairway that led down into the darkness. Emily\\'s heart pounded with excitement as she took the first step, and then the next, and the next.\\n\\nShe found herself in a vast, underground chamber, filled with glittering crystals and shimmering lights. The air was filled with a sweet, musical hum, and Emily felt as though she had entered a whole new world.\\n\\nAs she explored the chamber, Emily discovered that she was not alone. There were others, like her, who had unlocked the door and entered this mystical realm. They were a community of dreamers and adventurers, each one with their own unique story to tell.\\n\\nAnd Emily, with her heart full of wonder and her mind full of curiosity, knew that she had finally found her home. She was no longer just a small village girl, but a member of a community of like-minded individuals, who shared her passion for the extraordinary.\\n\\nFrom that day on, Emily spent her days exploring the underground chamber, learning the secrets of the mystical realm, and sharing her own stories with the others. And as she looked up at the stars, shining brightly through the stone ceiling, she knew that she would never be content with a ordinary, mundane life again. For she had discovered the magic of the unknown, and it had set her free.'}"
      ]
     },
     "execution_count": 17,
     "metadata": {},
     "output_type": "execute_result"
    }
   ],
   "source": [
    "state=graph.invoke({\"input\":\"Write me a story\"})\n",
    "state"
   ]
  },
  {
   "cell_type": "code",
   "execution_count": 18,
   "id": "0fb9daec",
   "metadata": {},
   "outputs": [
    {
     "data": {
      "text/plain": [
       "{'input': 'Write a poem',\n",
       " 'decision': 'poem',\n",
       " 'output': '\"Whispers of the Wind\"\\n\\nIn twilight\\'s hush, where shadows play,\\nThe wind whispers secrets, night and day.\\nA gentle breeze that stirs the trees,\\nAnd rustles leaves with soothing ease.\\n\\nThe stars above, a twinkling sea,\\nReflect the dreams that dance in me.\\nThe moon, a glowing crescent smile,\\n Illuminates the path, all the while.\\n\\nIn quiet moments, I listen close,\\nTo the wind\\'s tales of love and loss.\\nOf distant lands and memories past,\\nAnd the whispers of a love that will forever last.\\n\\nThe wind\\'s melody, a lullaby sweet,\\nEchoes through my soul, a gentle beat.\\nA reminder of life\\'s ebb and flow,\\nAnd the beauty that only nature can show.\\n\\nSo let the wind whisper secrets to me,\\nAnd let its melodies set my soul free.\\nFor in its whispers, I find peace and rest,\\nAnd a connection to the world, at its best.'}"
      ]
     },
     "execution_count": 18,
     "metadata": {},
     "output_type": "execute_result"
    }
   ],
   "source": [
    "state=graph.invoke({\"input\":\"Write a poem\"})\n",
    "state"
   ]
  },
  {
   "cell_type": "code",
   "execution_count": 19,
   "id": "3a1ec790",
   "metadata": {},
   "outputs": [
    {
     "data": {
      "text/plain": [
       "{'input': 'Write a funny joke that is most familiar',\n",
       " 'decision': 'joke',\n",
       " 'output': 'Here\\'s a classic one:\\n\\n\"Why was the math book sad? Because it had too many problems.\"\\n\\nThis joke is a play on words, using the phrase \"too many problems\" to refer both to math equations and personal issues, making it a well-known and relatable joke.'}"
      ]
     },
     "execution_count": 19,
     "metadata": {},
     "output_type": "execute_result"
    }
   ],
   "source": [
    "state=graph.invoke({\"input\":\"Write a funny joke that is most familiar\"})\n",
    "state"
   ]
  }
 ],
 "metadata": {
  "kernelspec": {
   "display_name": "langraph",
   "language": "python",
   "name": "python3"
  },
  "language_info": {
   "codemirror_mode": {
    "name": "ipython",
    "version": 3
   },
   "file_extension": ".py",
   "mimetype": "text/x-python",
   "name": "python",
   "nbconvert_exporter": "python",
   "pygments_lexer": "ipython3",
   "version": "3.13.0"
  }
 },
 "nbformat": 4,
 "nbformat_minor": 5
}
