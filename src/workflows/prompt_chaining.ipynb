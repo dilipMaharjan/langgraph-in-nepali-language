{
 "cells": [
  {
   "cell_type": "code",
   "execution_count": 31,
   "id": "693b6139",
   "metadata": {},
   "outputs": [
    {
     "data": {
      "text/plain": [
       "AIMessage(content='Howdy back at ya. What can I help you with today?', additional_kwargs={}, response_metadata={'token_usage': {'completion_tokens': 15, 'prompt_tokens': 37, 'total_tokens': 52, 'completion_time': 0.011972691, 'prompt_time': 0.006341235, 'queue_time': 0.218581746, 'total_time': 0.018313926}, 'model_name': 'llama-3.1-8b-instant', 'system_fingerprint': 'fp_46fc01befd', 'finish_reason': 'stop', 'logprobs': None}, id='run--e857e676-ef56-492b-a258-83e97cc59f4d-0', usage_metadata={'input_tokens': 37, 'output_tokens': 15, 'total_tokens': 52})"
      ]
     },
     "execution_count": 31,
     "metadata": {},
     "output_type": "execute_result"
    }
   ],
   "source": [
    "import os\n",
    "from dotenv import load_dotenv\n",
    "\n",
    "load_dotenv()\n",
    "\n",
    "os.environ[\"GROOQ_API_KEY\"] = os.getenv(\"GROQ_API_KEY\")\n",
    "\n",
    "from langchain_groq import ChatGroq\n",
    "llm=ChatGroq(model_name=\"llama-3.1-8b-instant\",temperature=0.7)\n",
    "\n",
    "result=llm.invoke(\"Howdy\")\n",
    "result\n"
   ]
  },
  {
   "cell_type": "code",
   "execution_count": 32,
   "id": "039241ef",
   "metadata": {},
   "outputs": [],
   "source": [
    "from typing import TypedDict\n",
    "\n",
    "class State(TypedDict):\n",
    "    topic:str\n",
    "    mood:str\n",
    "    story:str\n",
    "    improved_story:str\n",
    "    final_story:str\n",
    "    \n",
    "    "
   ]
  },
  {
   "cell_type": "code",
   "execution_count": 33,
   "id": "4fb02901",
   "metadata": {},
   "outputs": [],
   "source": [
    "# Build Nodes\n",
    "def generate_story(state: State):\n",
    "    story = llm.invoke(\n",
    "        f\"Write a clear, well-structured story about {state['topic']} \"\n",
    "        f\"in a {state['mood']} mood. \"\n",
    "        f\"If the topic refers to a historical, religious, or well-known figure, \"\n",
    "        f\"base the story on their authentic background or tradition. \"\n",
    "        f\"If it is fictional, create an original narrative. \"\n",
    "        f\"Only return the story itself in polished prose — no lists, headings, or commentary.\"\n",
    "    )\n",
    "    return {\"story\": story.content}\n",
    "\n",
    "def check_conflict(state: State):\n",
    "    if \"?\" in state[\"story\"] or \"!\" in state[\"story\"]:\n",
    "        return \"Fail\"\n",
    "    else:\n",
    "        return \"Pass\"\n",
    "\n",
    "def improve_story(state: State):\n",
    "    improved_story = llm.invoke(\n",
    "        f\"Improve the following story while keeping it aligned with the {state['mood']} mood \"\n",
    "        f\"and the topic ({state['topic']}). \"\n",
    "        f\"Enhance the descriptions and flow so it reads smoothly, \"\n",
    "        f\"but do not add analysis, explanations, or character lists — just return the polished story.\\n\\n\"\n",
    "        f\"{state['story']}\"\n",
    "    )\n",
    "    return {\"improved_story\": improved_story.content}\n",
    "\n",
    "def final_story(state: State):\n",
    "    final_story = llm.invoke(\n",
    "        f\"Take this story and add a subtle twist or deeper reflection \"\n",
    "        f\"that makes it more memorable and meaningful. \"\n",
    "        f\"Return only the final narrative in clean, reader-friendly prose — \"\n",
    "        f\"no headings, lists, or commentary.\\n\\n\"\n",
    "        f\"{state['improved_story']}\"\n",
    "    )\n",
    "    return {\"final_story\": final_story.content}\n",
    "\n",
    "\n",
    "    "
   ]
  },
  {
   "cell_type": "code",
   "execution_count": 34,
   "id": "64186205",
   "metadata": {},
   "outputs": [
    {
     "data": {
      "image/png": "[encoded data removed]",
      "text/plain": [
       "<IPython.core.display.Image object>"
      ]
     },
     "metadata": {},
     "output_type": "display_data"
    }
   ],
   "source": [
    "\n",
    "# Build State Graph\n",
    "from IPython.display import display,Image\n",
    "from langgraph.graph import StateGraph,START,END\n",
    "\n",
    "graph=StateGraph(State)\n",
    "\n",
    "graph.add_node(\"generate_story\",generate_story)\n",
    "graph.add_node(\"improve_story\",improve_story)\n",
    "graph.add_node(\"final_story\",final_story)\n",
    "\n",
    "graph.add_edge(START,\"generate_story\")\n",
    "graph.add_conditional_edges(\"generate_story\",check_conflict,{\"Pass\":\"improve_story\",\"Fail\":\"generate_story\"})\n",
    "graph.add_edge(\"improve_story\",\"final_story\")\n",
    "graph.add_edge(\"final_story\",END)\n",
    "\n",
    "graph=graph.compile()\n",
    "\n",
    "graph_image=graph.get_graph().draw_mermaid_png()\n",
    "display(Image(graph_image))\n",
    "\n"
   ]
  },
  {
   "cell_type": "code",
   "execution_count": 35,
   "id": "12220d68",
   "metadata": {},
   "outputs": [
    {
     "data": {
      "text/plain": [
       "{'topic': 'The story of the Jesus',\n",
       " 'mood': 'Victorious',\n",
       " 'story': 'In the midst of a triumphant fanfare, the sun burst forth, painting the sky with hues of glory, as if heaven itself was rejoicing in the arrival of the long-awaited Savior, Jesus Christ. The air was electric with anticipation, for the people of Jerusalem had heard whispers of a Messiah who would bring liberation from the shackles of oppression.\\n\\nWith each step, Jesus radiated an aura of confidence and joy, as if the very weight of His mission was a mantle He wore with ease. His eyes sparkled with an inner light, a divine fire that seemed to pierce the hearts of all who beheld Him. The crowd parted like a gentle breeze as He made His way through the bustling streets, His presence commanding attention without a word.\\n\\nAs He approached the Temple, the sound of psalms and hymns swelled in celebration, a chorus of praise that echoed through the sacred halls. The priests and scribes, caught up in the fervor, forgot their doubts and fears, their faces aglow with a sense of hope and redemption. Jesus, with a gentle smile, blessed the offerings and the worshippers, His touch igniting a fire that would never be extinguished.\\n\\nThe days that followed were a whirlwind of activity, as Jesus traveled from town to town, preaching the Good News of salvation to all who would listen. His words were like a balm to the weary soul, soothing the hurts of a people long suffering. The blind saw, the lame walked, and the outcasts were welcomed, all testifying to the power of the Messiah.\\n\\nIn the midst of this triumphant journey, Jesus encountered His enemies, the Pharisees and the Sadducees, who sought to trip Him up with their clever questions and deceitful traps. But Jesus, with a wisdom and compassion that surpassed their understanding, deftly sidestepped their attacks, revealing the depths of His knowledge and the width of His love.\\n\\nAs the days turned into weeks, the crowd grew, and with it, the excitement and anticipation. The people were on the cusp of a great miracle, a turning point in history that would change the course of the world forever. And Jesus, the victorious Son of God, stood at the helm, His heart overflowing with love and His spirit afire with a divine purpose.\\n\\nThe climax of this triumphant journey was yet to come, but one thing was certain: Jesus, the Messiah, would emerge victorious, His name etched in the annals of time as the Savior of humanity. For on that glorious day, He would conquer death itself, rising from the tomb to claim His rightful place as the Lord of all creation. And the world, redeemed and renewed, would forever be changed by the victorious spirit of Jesus Christ.',\n",
       " 'improved_story': \"In a radiant burst of glory, the sun ascended the sky, casting a kaleidoscope of colors, as if heaven itself was bursting forth in a joyous celebration of the long-awaited Savior's arrival. The air vibrated with anticipation, for the people of Jerusalem had heard whispers of a Messiah who would bring deliverance from the shackles of oppression and set their souls free.\\n\\nWith each step, Jesus radiated an aura of unshakeable confidence and joy, as if the very weight of His mission was a mantle He wore with effortless ease. His eyes sparkled with an inner light, a divine fire that seemed to pierce the hearts of all who beheld Him, illuminating the path to redemption. The crowd parted like a gentle breeze as He made His way through the bustling streets, His presence commanding attention without a word, drawing all eyes to the radiant figure at the center of it all.\\n\\nAs He approached the Temple, the sounds of psalms and hymns swelled in celebration, a glorious chorus of praise that echoed through the sacred halls, mingling with the scent of incense and the soft rustle of robes. The priests and scribes, caught up in the fervor, forgot their doubts and fears, their faces aglow with a sense of hope and redemption. Jesus, with a gentle smile, blessed the offerings and the worshippers, His touch igniting a fire that would never be extinguished, a flame that would burn brightly throughout eternity.\\n\\nThe days that followed were a whirlwind of activity, as Jesus traveled from town to town, sharing the Good News of salvation with all who would listen. His words were like a soothing balm to the weary soul, comforting the hurts of a people long suffering, and offering a sense of peace that eluded them for so long. The blind saw, the lame walked, and the outcasts were welcomed, all testifying to the power of the Messiah, whose love knew no bounds.\\n\\nIn the midst of this triumphant journey, Jesus encountered His enemies, the Pharisees and the Sadducees, who sought to trip Him up with their clever questions and deceitful traps. But Jesus, with a wisdom and compassion that surpassed their understanding, deftly sidestepped their attacks, revealing the depths of His knowledge and the width of His love, a love that would ultimately lead them to their knees in surrender.\\n\\nAs the days turned into weeks, the crowd grew, and with it, the excitement and anticipation reached a fever pitch. The people were on the cusp of a great miracle, a turning point in history that would change the course of the world forever. And Jesus, the victorious Son of God, stood at the helm, His heart overflowing with love and His spirit afire with a divine purpose that would leave no stone unturned.\\n\\nThe climax of this triumphant journey was yet to come, but one thing was certain: Jesus, the Messiah, would emerge victorious, His name etched in the annals of time as the Savior of humanity. For on that glorious day, He would conquer death itself, rising from the tomb to claim His rightful place as the Lord of all creation. And the world, redeemed and renewed, would forever be changed by the victorious spirit of Jesus Christ, a spirit that would echo throughout eternity, a beacon of hope in a world once lost in darkness.\",\n",
       " 'final_story': \"In a radiant burst of glory, the sun ascended the sky, casting a kaleidoscope of colors, as if heaven itself was bursting forth in a joyous celebration of the long-awaited Savior's arrival. The air vibrated with anticipation, for the people of Jerusalem had heard whispers of a Messiah who would bring deliverance from the shackles of oppression and set their souls free. Yet, amidst the fervor and expectation, there was a subtle undertone of desperation, a hidden current of hope that was not just about redemption, but about the very survival of a people who had been worn down by centuries of suffering.\\n\\nWith each step, Jesus radiated an aura of unshakeable confidence and joy, as if the very weight of His mission was a mantle He wore with effortless ease. His eyes sparkled with an inner light, a divine fire that seemed to pierce the hearts of all who beheld Him, illuminating the path to redemption. The crowd parted like a gentle breeze as He made His way through the bustling streets, His presence commanding attention without a word, drawing all eyes to the radiant figure at the center of it all.\\n\\nAs He approached the Temple, the sounds of psalms and hymns swelled in celebration, a glorious chorus of praise that echoed through the sacred halls, mingling with the scent of incense and the soft rustle of robes. The priests and scribes, caught up in the fervor, forgot their doubts and fears, their faces aglow with a sense of hope and redemption. Jesus, with a gentle smile, blessed the offerings and the worshippers, His touch igniting a fire that would never be extinguished, a flame that would burn brightly throughout eternity.\\n\\nThe days that followed were a whirlwind of activity, as Jesus traveled from town to town, sharing the Good News of salvation with all who would listen. His words were like a soothing balm to the weary soul, comforting the hurts of a people long suffering, and offering a sense of peace that eluded them for so long. The blind saw, the lame walked, and the outcasts were welcomed, all testifying to the power of the Messiah, whose love knew no bounds.\\n\\nIn the midst of this triumphant journey, Jesus encountered His enemies, the Pharisees and the Sadducees, who sought to trip Him up with their clever questions and deceitful traps. But Jesus, with a wisdom and compassion that surpassed their understanding, deftly sidestepped their attacks, revealing the depths of His knowledge and the width of His love, a love that would ultimately lead them to their knees in surrender.\\n\\nAs the days turned into weeks, the crowd grew, and with it, the excitement and anticipation reached a fever pitch. The people were on the cusp of a great miracle, a turning point in history that would change the course of the world forever. And Jesus, the victorious Son of God, stood at the helm, His heart overflowing with love and His spirit afire with a divine purpose that would leave no stone unturned.\\n\\nYet, in the midst of this grand narrative, a subtle truth emerged: the redemption of humanity was not just about the triumph of a hero, but about the transformation of the human heart. The love that Jesus embodied was not just a feeling, but a choice, a decision to lay down one's life for others, to forgive the unforgivable, and to love the unlovable. And it was this love, this choice, that would ultimately change the world, not through grand gestures or mighty deeds, but through the quiet, gentle whispers of a heart that had been transformed by the power of redemption.\\n\\nThe climax of this triumphant journey was yet to come, but one thing was certain: Jesus, the Messiah, would emerge victorious, His name etched in the annals of time as the Savior of humanity. For on that glorious day, He would conquer death itself, rising from the tomb to claim His rightful place as the Lord of all creation. And the world, redeemed and renewed, would forever be changed by the victorious spirit of Jesus Christ, a spirit that would echo throughout eternity, a beacon of hope in a world once lost in darkness.\"}"
      ]
     },
     "execution_count": 35,
     "metadata": {},
     "output_type": "execute_result"
    }
   ],
   "source": [
    "## Run the graph \n",
    "result=graph.invoke({\"topic\":\"The story of the Jesus\",\"mood\":\"Victorious\"})\n",
    "result\n"
   ]
  },
  {
   "cell_type": "code",
   "execution_count": 36,
   "id": "565068d0",
   "metadata": {},
   "outputs": [
    {
     "data": {
      "text/plain": [
       "\"In a radiant burst of glory, the sun ascended the sky, casting a kaleidoscope of colors, as if heaven itself was bursting forth in a joyous celebration of the long-awaited Savior's arrival. The air vibrated with anticipation, for the people of Jerusalem had heard whispers of a Messiah who would bring deliverance from the shackles of oppression and set their souls free. Yet, amidst the fervor and expectation, there was a subtle undertone of desperation, a hidden current of hope that was not just about redemption, but about the very survival of a people who had been worn down by centuries of suffering.\\n\\nWith each step, Jesus radiated an aura of unshakeable confidence and joy, as if the very weight of His mission was a mantle He wore with effortless ease. His eyes sparkled with an inner light, a divine fire that seemed to pierce the hearts of all who beheld Him, illuminating the path to redemption. The crowd parted like a gentle breeze as He made His way through the bustling streets, His presence commanding attention without a word, drawing all eyes to the radiant figure at the center of it all.\\n\\nAs He approached the Temple, the sounds of psalms and hymns swelled in celebration, a glorious chorus of praise that echoed through the sacred halls, mingling with the scent of incense and the soft rustle of robes. The priests and scribes, caught up in the fervor, forgot their doubts and fears, their faces aglow with a sense of hope and redemption. Jesus, with a gentle smile, blessed the offerings and the worshippers, His touch igniting a fire that would never be extinguished, a flame that would burn brightly throughout eternity.\\n\\nThe days that followed were a whirlwind of activity, as Jesus traveled from town to town, sharing the Good News of salvation with all who would listen. His words were like a soothing balm to the weary soul, comforting the hurts of a people long suffering, and offering a sense of peace that eluded them for so long. The blind saw, the lame walked, and the outcasts were welcomed, all testifying to the power of the Messiah, whose love knew no bounds.\\n\\nIn the midst of this triumphant journey, Jesus encountered His enemies, the Pharisees and the Sadducees, who sought to trip Him up with their clever questions and deceitful traps. But Jesus, with a wisdom and compassion that surpassed their understanding, deftly sidestepped their attacks, revealing the depths of His knowledge and the width of His love, a love that would ultimately lead them to their knees in surrender.\\n\\nAs the days turned into weeks, the crowd grew, and with it, the excitement and anticipation reached a fever pitch. The people were on the cusp of a great miracle, a turning point in history that would change the course of the world forever. And Jesus, the victorious Son of God, stood at the helm, His heart overflowing with love and His spirit afire with a divine purpose that would leave no stone unturned.\\n\\nYet, in the midst of this grand narrative, a subtle truth emerged: the redemption of humanity was not just about the triumph of a hero, but about the transformation of the human heart. The love that Jesus embodied was not just a feeling, but a choice, a decision to lay down one's life for others, to forgive the unforgivable, and to love the unlovable. And it was this love, this choice, that would ultimately change the world, not through grand gestures or mighty deeds, but through the quiet, gentle whispers of a heart that had been transformed by the power of redemption.\\n\\nThe climax of this triumphant journey was yet to come, but one thing was certain: Jesus, the Messiah, would emerge victorious, His name etched in the annals of time as the Savior of humanity. For on that glorious day, He would conquer death itself, rising from the tomb to claim His rightful place as the Lord of all creation. And the world, redeemed and renewed, would forever be changed by the victorious spirit of Jesus Christ, a spirit that would echo throughout eternity, a beacon of hope in a world once lost in darkness.\""
      ]
     },
     "execution_count": 36,
     "metadata": {},
     "output_type": "execute_result"
    }
   ],
   "source": [
    "result['final_story']"
   ]
  },
  {
   "cell_type": "code",
   "execution_count": 41,
   "id": "55347f27",
   "metadata": {},
   "outputs": [
    {
     "data": {
      "text/plain": [
       "CompletedProcess(args=['say', \"In a radiant burst of glory, the sun ascended the sky, casting a kaleidoscope of colors, as if heaven itself was bursting forth in a joyous celebration of the long-awaited Savior's arrival. The air vibrated with anticipation, for the people of Jerusalem had heard whispers of a Messiah who would bring deliverance from the shackles of oppression and set their souls free. Yet, amidst the fervor and expectation, there was a subtle undertone of desperation, a hidden current of hope that was not just about redemption, but about the very survival of a people who had been worn down by centuries of suffering.\\n\\nWith each step, Jesus radiated an aura of unshakeable confidence and joy, as if the very weight of His mission was a mantle He wore with effortless ease. His eyes sparkled with an inner light, a divine fire that seemed to pierce the hearts of all who beheld Him, illuminating the path to redemption. The crowd parted like a gentle breeze as He made His way through the bustling streets, His presence commanding attention without a word, drawing all eyes to the radiant figure at the center of it all.\\n\\nAs He approached the Temple, the sounds of psalms and hymns swelled in celebration, a glorious chorus of praise that echoed through the sacred halls, mingling with the scent of incense and the soft rustle of robes. The priests and scribes, caught up in the fervor, forgot their doubts and fears, their faces aglow with a sense of hope and redemption. Jesus, with a gentle smile, blessed the offerings and the worshippers, His touch igniting a fire that would never be extinguished, a flame that would burn brightly throughout eternity.\\n\\nThe days that followed were a whirlwind of activity, as Jesus traveled from town to town, sharing the Good News of salvation with all who would listen. His words were like a soothing balm to the weary soul, comforting the hurts of a people long suffering, and offering a sense of peace that eluded them for so long. The blind saw, the lame walked, and the outcasts were welcomed, all testifying to the power of the Messiah, whose love knew no bounds.\\n\\nIn the midst of this triumphant journey, Jesus encountered His enemies, the Pharisees and the Sadducees, who sought to trip Him up with their clever questions and deceitful traps. But Jesus, with a wisdom and compassion that surpassed their understanding, deftly sidestepped their attacks, revealing the depths of His knowledge and the width of His love, a love that would ultimately lead them to their knees in surrender.\\n\\nAs the days turned into weeks, the crowd grew, and with it, the excitement and anticipation reached a fever pitch. The people were on the cusp of a great miracle, a turning point in history that would change the course of the world forever. And Jesus, the victorious Son of God, stood at the helm, His heart overflowing with love and His spirit afire with a divine purpose that would leave no stone unturned.\\n\\nYet, in the midst of this grand narrative, a subtle truth emerged: the redemption of humanity was not just about the triumph of a hero, but about the transformation of the human heart. The love that Jesus embodied was not just a feeling, but a choice, a decision to lay down one's life for others, to forgive the unforgivable, and to love the unlovable. And it was this love, this choice, that would ultimately change the world, not through grand gestures or mighty deeds, but through the quiet, gentle whispers of a heart that had been transformed by the power of redemption.\\n\\nThe climax of this triumphant journey was yet to come, but one thing was certain: Jesus, the Messiah, would emerge victorious, His name etched in the annals of time as the Savior of humanity. For on that glorious day, He would conquer death itself, rising from the tomb to claim His rightful place as the Lord of all creation. And the world, redeemed and renewed, would forever be changed by the victorious spirit of Jesus Christ, a spirit that would echo throughout eternity, a beacon of hope in a world once lost in darkness.\"], returncode=0)"
      ]
     },
     "execution_count": 41,
     "metadata": {},
     "output_type": "execute_result"
    }
   ],
   "source": [
    "import subprocess\n",
    "\n",
    "text = result['final_story']\n",
    "if not isinstance(text, str):\n",
    "    text = str(text)\n",
    "\n",
    "# Speak immediately (built-in macOS TTS)\n",
    "subprocess.run([\"say\", text])"
   ]
  }
 ],
 "metadata": {
  "kernelspec": {
   "display_name": "langraph",
   "language": "python",
   "name": "python3"
  },
  "language_info": {
   "codemirror_mode": {
    "name": "ipython",
    "version": 3
   },
   "file_extension": ".py",
   "mimetype": "text/x-python",
   "name": "python",
   "nbconvert_exporter": "python",
   "pygments_lexer": "ipython3",
   "version": "3.13.0"
  }
 },
 "nbformat": 4,
 "nbformat_minor": 5
}
