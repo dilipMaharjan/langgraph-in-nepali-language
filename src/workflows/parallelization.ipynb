{
 "cells": [
  {
   "cell_type": "code",
   "execution_count": 1,
   "id": "3a8ca943",
   "metadata": {},
   "outputs": [
    {
     "data": {
      "text/plain": [
       "AIMessage(content=\"Howdy back at ya. How's your day goin'?\", additional_kwargs={}, response_metadata={'token_usage': {'completion_tokens': 14, 'prompt_tokens': 37, 'total_tokens': 51, 'completion_time': 0.020841617, 'prompt_time': 0.006278667, 'queue_time': 0.436761711, 'total_time': 0.027120284}, 'model_name': 'llama-3.1-8b-instant', 'system_fingerprint': 'fp_7083106d2c', 'finish_reason': 'stop', 'logprobs': None}, id='run--e8efa065-ade0-4c4d-a73e-5e5afdf6eec3-0', usage_metadata={'input_tokens': 37, 'output_tokens': 14, 'total_tokens': 51})"
      ]
     },
     "execution_count": 1,
     "metadata": {},
     "output_type": "execute_result"
    }
   ],
   "source": [
    "import os\n",
    "from dotenv import load_dotenv\n",
    "\n",
    "load_dotenv()\n",
    "\n",
    "os.environ[\"GROOQ_API_KEY\"] = os.getenv(\"GROQ_API_KEY\")\n",
    "\n",
    "from langchain_groq import ChatGroq\n",
    "llm=ChatGroq(model_name=\"llama-3.1-8b-instant\",temperature=0.7)\n",
    "\n",
    "result=llm.invoke(\"Howdy\")\n",
    "result"
   ]
  },
  {
   "cell_type": "code",
   "execution_count": 2,
   "id": "df37f94c",
   "metadata": {},
   "outputs": [],
   "source": [
    "from typing import TypedDict\n",
    "\n",
    "class State(TypedDict):\n",
    "    topic:str\n",
    "    characters:str\n",
    "    settings:str\n",
    "    premises:str\n",
    "    story_intro:str"
   ]
  },
  {
   "cell_type": "code",
   "execution_count": 7,
   "id": "3ffb4e14",
   "metadata": {},
   "outputs": [],
   "source": [
    "# Nodes\n",
    "def generate_characters(state:State):\n",
    "    \"\"\"Generate characters\"\"\"\n",
    "    characters = llm.invoke(f\"Generate two characters with name and brief peculiar traits for the story about {state['topic']}.\")\n",
    "    return {\"characters\":characters.content}\n",
    "\n",
    "def generate_settings(state:State):\n",
    "    \"\"\"Generate settings\"\"\"\n",
    "    settings = llm.invoke(f\"Generate a setting for the story about {state['topic']}. Do not deviate from the topic.\")\n",
    "    return {\"settings\":settings.content}\n",
    "\n",
    "def generate_premises(state:State):\n",
    "    \"\"\"Generate premises\"\"\"\n",
    "    premises = llm.invoke(f\"Generate a short premise for the story about {state['topic']}.\")\n",
    "    return {\"premises\":premises.content}\n",
    "\n",
    "def generate_story_intro(state:State):\n",
    "    \"\"\"Generate story intro\"\"\"\n",
    "    story_intro = llm.invoke(\n",
    "        f\"\"\"\n",
    "ONLY OUTPUT THE STORY TEXT. DO NOT ADD ANY TITLES, HEADINGS, SEPARATORS, INTRODUCTIONS, EXPLANATIONS, OR COMMENTARY. \n",
    "Write a short story intro using the following elements. \n",
    "The story must be concise, clear, and short enough to read aloud( STRICTLY ABOUT 80-100 words).  \n",
    "Characters: {state['characters']}\n",
    "Settings: {state['settings']}\n",
    "Premises: {state['premises']}\n",
    "\"\"\"\n",
    "\n",
    ")\n",
    "    return {\"story_intro\":story_intro.content}"
   ]
  },
  {
   "cell_type": "code",
   "execution_count": 8,
   "id": "2d5e2b2b",
   "metadata": {},
   "outputs": [
    {
     "data": {
      "image/png": "[encoded data removed]",
      "text/plain": [
       "<IPython.core.display.Image object>"
      ]
     },
     "metadata": {},
     "output_type": "display_data"
    }
   ],
   "source": [
    "# Build State Graph\n",
    "from IPython.display import display,Image\n",
    "from langgraph.graph import StateGraph,START,END\n",
    "\n",
    "graph=StateGraph(State)\n",
    "\n",
    "# Adding nodes to the graph\n",
    "graph.add_node(\"characters\",generate_characters)\n",
    "graph.add_node(\"settings\",generate_settings)\n",
    "graph.add_node(\"premises\",generate_premises)\n",
    "graph.add_node(\"story_intro\",generate_story_intro)\n",
    "\n",
    "# Adding edges\n",
    "graph.add_edge(START,\"characters\")\n",
    "graph.add_edge(START,\"settings\")\n",
    "graph.add_edge(START,\"premises\")\n",
    "graph.add_edge(\"characters\",\"story_intro\")\n",
    "graph.add_edge(\"settings\",\"story_intro\")\n",
    "graph.add_edge(\"premises\",\"story_intro\")\n",
    "graph.add_edge(\"story_intro\",END)\n",
    "\n",
    "#Compile graph\n",
    "graph=graph.compile()\n",
    "\n",
    "graph_image=graph.get_graph().draw_mermaid_png()\n",
    "display(Image(graph_image))\n",
    " "
   ]
  },
  {
   "cell_type": "code",
   "execution_count": 14,
   "id": "7788f1d0",
   "metadata": {},
   "outputs": [
    {
     "name": "stdout",
     "output_type": "stream",
     "text": [
      "August Wells adjusted his guitar strap for what felt like the hundredth time, his fingers drumming a nervous rhythm on the neck of his instrument. \"Come on, Augie, you got this,\" he muttered to himself, trying to shake off the pre-show jitters. He glanced around the cozy space of the Bluebird Cafe, taking in the dim lighting and the scattered crowd of music lovers. It was a night like any other in Nashville, but for Augie, it was the start of something new. He took a deep breath, letting the familiar scent of wood and sweat wash over him. \"Let's do this, old friend,\" he whispered, his eyes locking onto his guitar as if it were a trusted companion. As he launched into his first chord, the sounds of the city outside melted away, and for a moment, Augie was the only one who mattered.\n"
     ]
    }
   ],
   "source": [
    "result=graph.invoke({\"topic\":\"Musician falling in love with a singer\"})\n",
    "print(result['story_intro'])"
   ]
  },
  {
   "cell_type": "code",
   "execution_count": 15,
   "id": "333b5bd7",
   "metadata": {},
   "outputs": [
    {
     "data": {
      "text/plain": [
       "CompletedProcess(args=['say', 'August Wells adjusted his guitar strap for what felt like the hundredth time, his fingers drumming a nervous rhythm on the neck of his instrument. \"Come on, Augie, you got this,\" he muttered to himself, trying to shake off the pre-show jitters. He glanced around the cozy space of the Bluebird Cafe, taking in the dim lighting and the scattered crowd of music lovers. It was a night like any other in Nashville, but for Augie, it was the start of something new. He took a deep breath, letting the familiar scent of wood and sweat wash over him. \"Let\\'s do this, old friend,\" he whispered, his eyes locking onto his guitar as if it were a trusted companion. As he launched into his first chord, the sounds of the city outside melted away, and for a moment, Augie was the only one who mattered.'], returncode=0)"
      ]
     },
     "execution_count": 15,
     "metadata": {},
     "output_type": "execute_result"
    }
   ],
   "source": [
    "import subprocess\n",
    "\n",
    "text = result['story_intro']\n",
    "if not isinstance(text, str):\n",
    "    text = str(text)\n",
    "\n",
    "# Speak immediately (built-in macOS TTS)\n",
    "subprocess.run([\"say\", text])"
   ]
  }
 ],
 "metadata": {
  "kernelspec": {
   "display_name": "langraph",
   "language": "python",
   "name": "python3"
  },
  "language_info": {
   "codemirror_mode": {
    "name": "ipython",
    "version": 3
   },
   "file_extension": ".py",
   "mimetype": "text/x-python",
   "name": "python",
   "nbconvert_exporter": "python",
   "pygments_lexer": "ipython3",
   "version": "3.13.0"
  }
 },
 "nbformat": 4,
 "nbformat_minor": 5
}
