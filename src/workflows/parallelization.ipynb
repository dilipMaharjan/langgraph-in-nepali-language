{
 "cells": [
  {
   "cell_type": "code",
   "execution_count": 1,
   "id": "3a8ca943",
   "metadata": {},
   "outputs": [
    {
     "data": {
      "text/plain": [
       "AIMessage(content=\"Howdy back atcha. How's your day goin' so far?\", additional_kwargs={}, response_metadata={'token_usage': {'completion_tokens': 17, 'prompt_tokens': 37, 'total_tokens': 54, 'completion_time': 0.029908541, 'prompt_time': 0.002350479, 'queue_time': 0.214723588, 'total_time': 0.03225902}, 'model_name': 'llama-3.1-8b-instant', 'system_fingerprint': 'fp_c54ae48ece', 'finish_reason': 'stop', 'logprobs': None}, id='run--ffa777b2-81c9-462c-9f4c-d4feff6fe346-0', usage_metadata={'input_tokens': 37, 'output_tokens': 17, 'total_tokens': 54})"
      ]
     },
     "execution_count": 1,
     "metadata": {},
     "output_type": "execute_result"
    }
   ],
   "source": [
    "import os\n",
    "from dotenv import load_dotenv\n",
    "\n",
    "load_dotenv()\n",
    "\n",
    "os.environ[\"GROOQ_API_KEY\"] = os.getenv(\"GROQ_API_KEY\")\n",
    "\n",
    "from langchain_groq import ChatGroq\n",
    "llm=ChatGroq(model_name=\"llama-3.1-8b-instant\",temperature=0.7)\n",
    "\n",
    "result=llm.invoke(\"Howdy\")\n",
    "result"
   ]
  },
  {
   "cell_type": "code",
   "execution_count": 2,
   "id": "df37f94c",
   "metadata": {},
   "outputs": [],
   "source": [
    "from typing import TypedDict\n",
    "\n",
    "class State(TypedDict):\n",
    "    topic:str\n",
    "    characters:str\n",
    "    settings:str\n",
    "    premises:str\n",
    "    story_intro:str"
   ]
  },
  {
   "cell_type": "code",
   "execution_count": 3,
   "id": "3ffb4e14",
   "metadata": {},
   "outputs": [],
   "source": [
    "# Nodes\n",
    "def generate_characters(state:State):\n",
    "    \"\"\"Generate characters\"\"\"\n",
    "    characters = llm.invoke(f\"Generate two characters with name and brief peculiar traits for the story about {state['topic']}.\")\n",
    "    return {\"characters\":characters.content}\n",
    "\n",
    "def generate_settings(state:State):\n",
    "    \"\"\"Generate settings\"\"\"\n",
    "    settings = llm.invoke(f\"Generate a setting for the story about {state['topic']}. Do not deviate from the topic.\")\n",
    "    return {\"settings\":settings.content}\n",
    "\n",
    "def generate_premises(state:State):\n",
    "    \"\"\"Generate premises\"\"\"\n",
    "    premises = llm.invoke(f\"Generate a short premise for the story about {state['topic']}.\")\n",
    "    return {\"premises\":premises.content}\n",
    "\n",
    "def generate_story_intro(state:State):\n",
    "    \"\"\"Generate story intro\"\"\"\n",
    "    story_intro = llm.invoke(\n",
    "        f\"\"\"\n",
    "ONLY OUTPUT THE STORY TEXT. DO NOT ADD ANY TITLES, HEADINGS, SEPARATORS, INTRODUCTIONS, EXPLANATIONS, OR COMMENTARY. \n",
    "Write a short story intro using the following elements. \n",
    "The story must be concise, clear, and short enough to read aloud( STRICTLY ABOUT 80-100 words).  \n",
    "Characters: {state['characters']}\n",
    "Settings: {state['settings']}\n",
    "Premises: {state['premises']}\n",
    "\"\"\"\n",
    "\n",
    ")\n",
    "    return {\"story_intro\":story_intro.content}"
   ]
  },
  {
   "cell_type": "code",
   "execution_count": 4,
   "id": "2d5e2b2b",
   "metadata": {},
   "outputs": [
    {
     "data": {
      "image/png": "[encoded data removed]",
      "text/plain": [
       "<IPython.core.display.Image object>"
      ]
     },
     "metadata": {},
     "output_type": "display_data"
    }
   ],
   "source": [
    "# Build State Graph\n",
    "from IPython.display import display,Image\n",
    "from langgraph.graph import StateGraph,START,END\n",
    "\n",
    "graph=StateGraph(State)\n",
    "\n",
    "# Adding nodes to the graph\n",
    "graph.add_node(\"characters\",generate_characters)\n",
    "graph.add_node(\"settings\",generate_settings)\n",
    "graph.add_node(\"premises\",generate_premises)\n",
    "graph.add_node(\"story_intro\",generate_story_intro)\n",
    "\n",
    "# Adding edges\n",
    "graph.add_edge(START,\"characters\")\n",
    "graph.add_edge(START,\"settings\")\n",
    "graph.add_edge(START,\"premises\")\n",
    "graph.add_edge(\"characters\",\"story_intro\")\n",
    "graph.add_edge(\"settings\",\"story_intro\")\n",
    "graph.add_edge(\"premises\",\"story_intro\")\n",
    "graph.add_edge(\"story_intro\",END)\n",
    "\n",
    "#Compile graph\n",
    "graph=graph.compile()\n",
    "\n",
    "graph_image=graph.get_graph().draw_mermaid_png()\n",
    "display(Image(graph_image))\n",
    " "
   ]
  },
  {
   "cell_type": "code",
   "execution_count": 5,
   "id": "7788f1d0",
   "metadata": {},
   "outputs": [
    {
     "name": "stdout",
     "output_type": "stream",
     "text": [
      "As Ethan Blackwood stepped off the worn streets of the French Quarter, the vibrant sounds of New Orleans enveloped him like a warm hug. He breathed in the scent of spicy Creole cuisine and the sweet aroma of blooming jasmine, feeling the city's energy coursing through his veins. His eyes scanned the crowded sidewalk, searching for a glimpse of Luna Nightingale, the singer who had captured his attention with her ethereal voice and haunted lyrics. The night air seemed to vibrate with possibility as Ethan made his way to the small jazz club, The Red Door, where Luna was rumored to be performing. He adjusted his guitar strap, Melody secure against his chest, and pushed open the creaky door, ready to immerse himself in the city's infectious rhythm.\n"
     ]
    }
   ],
   "source": [
    "result=graph.invoke({\"topic\":\"Musician falling in love with a singer\"})\n",
    "print(result['story_intro'])"
   ]
  },
  {
   "cell_type": "code",
   "execution_count": 6,
   "id": "333b5bd7",
   "metadata": {},
   "outputs": [
    {
     "data": {
      "text/plain": [
       "CompletedProcess(args=['say', \"As Ethan Blackwood stepped off the worn streets of the French Quarter, the vibrant sounds of New Orleans enveloped him like a warm hug. He breathed in the scent of spicy Creole cuisine and the sweet aroma of blooming jasmine, feeling the city's energy coursing through his veins. His eyes scanned the crowded sidewalk, searching for a glimpse of Luna Nightingale, the singer who had captured his attention with her ethereal voice and haunted lyrics. The night air seemed to vibrate with possibility as Ethan made his way to the small jazz club, The Red Door, where Luna was rumored to be performing. He adjusted his guitar strap, Melody secure against his chest, and pushed open the creaky door, ready to immerse himself in the city's infectious rhythm.\"], returncode=0)"
      ]
     },
     "execution_count": 6,
     "metadata": {},
     "output_type": "execute_result"
    }
   ],
   "source": [
    "import subprocess\n",
    "\n",
    "text = result['story_intro']\n",
    "if not isinstance(text, str):\n",
    "    text = str(text)\n",
    "\n",
    "# Speak immediately (built-in macOS TTS)\n",
    "subprocess.run([\"say\", text])"
   ]
  }
 ],
 "metadata": {
  "kernelspec": {
   "display_name": "langraph",
   "language": "python",
   "name": "python3"
  },
  "language_info": {
   "codemirror_mode": {
    "name": "ipython",
    "version": 3
   },
   "file_extension": ".py",
   "mimetype": "text/x-python",
   "name": "python",
   "nbconvert_exporter": "python",
   "pygments_lexer": "ipython3",
   "version": "3.13.0"
  }
 },
 "nbformat": 4,
 "nbformat_minor": 5
}
