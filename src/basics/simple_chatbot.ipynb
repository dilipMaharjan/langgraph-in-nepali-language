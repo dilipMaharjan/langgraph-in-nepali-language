{
 "cells": [
  {
   "cell_type": "markdown",
   "id": "3c64756e",
   "metadata": {},
   "source": [
    "Simple Chatbot using GROQ"
   ]
  },
  {
   "cell_type": "code",
   "execution_count": 68,
   "id": "cc62206b",
   "metadata": {},
   "outputs": [],
   "source": [
    "#Reducers\n",
    "from typing_extensions import TypedDict\n",
    "from langgraph.graph.message import add_messages\n",
    "from typing import Annotated\n",
    "from langgraph.graph import StateGraph, START, END"
   ]
  },
  {
   "cell_type": "code",
   "execution_count": 69,
   "id": "b46f51d1",
   "metadata": {},
   "outputs": [],
   "source": [
    "class State(TypedDict):\n",
    "    messages:Annotated[list,add_messages]"
   ]
  },
  {
   "cell_type": "code",
   "execution_count": 70,
   "id": "0ba635f9",
   "metadata": {},
   "outputs": [],
   "source": [
    "import os \n",
    "from dotenv import load_dotenv\n",
    "load_dotenv()\n",
    "\n",
    "os.environ[\"GROQ_API_KEY\"] = os.getenv(\"GROQ_API_KEY\")"
   ]
  },
  {
   "cell_type": "code",
   "execution_count": 71,
   "id": "461ae109",
   "metadata": {},
   "outputs": [
    {
     "data": {
      "text/plain": [
       "AIMessage(content='The capital of Nepal is Kathmandu.', additional_kwargs={}, response_metadata={'token_usage': {'completion_tokens': 10, 'prompt_tokens': 42, 'total_tokens': 52, 'completion_time': 0.013333333, 'prompt_time': 0.002019451, 'queue_time': 0.219332539, 'total_time': 0.015352784}, 'model_name': 'llama-3.1-8b-instant', 'system_fingerprint': 'fp_8ab2e50475', 'finish_reason': 'stop', 'logprobs': None}, id='run--496b522a-61ed-4b64-addd-06bc430c7a08-0', usage_metadata={'input_tokens': 42, 'output_tokens': 10, 'total_tokens': 52})"
      ]
     },
     "execution_count": 71,
     "metadata": {},
     "output_type": "execute_result"
    }
   ],
   "source": [
    "from langchain_groq import ChatGroq \n",
    "\n",
    "llm = ChatGroq(model_name=\"llama-3.1-8b-instant\",temperature=0.7)\n",
    "\n",
    "llm.invoke(\"What is the capital of Nepal?\")"
   ]
  },
  {
   "cell_type": "markdown",
   "id": "8330705c",
   "metadata": {},
   "source": [
    "Creating Nodes"
   ]
  },
  {
   "cell_type": "code",
   "execution_count": 72,
   "id": "ffdcdc50",
   "metadata": {},
   "outputs": [],
   "source": [
    "def chat_bot(state:State):\n",
    "    \"\"\"Chatbot that responds to user messages.\"\"\"\n",
    "    return {\"messages\" : [llm.invoke(state[\"messages\"])]}"
   ]
  },
  {
   "cell_type": "code",
   "execution_count": 73,
   "id": "27f5acff",
   "metadata": {},
   "outputs": [
    {
     "data": {
      "image/png": "[encoded data removed]",
      "text/plain": [
       "<IPython.core.display.Image object>"
      ]
     },
     "metadata": {},
     "output_type": "display_data"
    }
   ],
   "source": [
    "graph = StateGraph(State)\n",
    "\n",
    "#node\n",
    "graph.add_node(\"chat_bot\",chat_bot)\n",
    "\n",
    "#edges\n",
    "graph.add_edge(START, \"chat_bot\")\n",
    "graph.add_edge(\"chat_bot\", END)\n",
    "\n",
    "#compile the graph\n",
    "build_graph = graph.compile()\n",
    "\n",
    "#Display the graph\n",
    "\n",
    "from IPython.display import display,Image\n",
    "\n",
    "display(Image(build_graph.get_graph().draw_mermaid_png()))"
   ]
  },
  {
   "cell_type": "markdown",
   "id": "d67f7caf",
   "metadata": {},
   "source": []
  },
  {
   "cell_type": "code",
   "execution_count": 74,
   "id": "85383821",
   "metadata": {},
   "outputs": [
    {
     "data": {
      "text/plain": [
       "{'messages': [HumanMessage(content='What is the capital of United States?', additional_kwargs={}, response_metadata={}, id='dc4ff557-fde5-4221-9139-a6db1e02d7df'),\n",
       "  AIMessage(content='The capital of the United States is Washington, D.C. (District of Columbia).', additional_kwargs={}, response_metadata={'token_usage': {'completion_tokens': 18, 'prompt_tokens': 43, 'total_tokens': 61, 'completion_time': 0.024, 'prompt_time': 0.002804291, 'queue_time': 0.219156859, 'total_time': 0.026804291}, 'model_name': 'llama-3.1-8b-instant', 'system_fingerprint': 'fp_510c177af0', 'finish_reason': 'stop', 'logprobs': None}, id='run--eb3d7932-305a-4098-a4ac-a471ca44d383-0', usage_metadata={'input_tokens': 43, 'output_tokens': 18, 'total_tokens': 61})]}"
      ]
     },
     "execution_count": 74,
     "metadata": {},
     "output_type": "execute_result"
    }
   ],
   "source": [
    "build_graph.invoke({\"messages\": [\"What is the capital of United States?\"]})"
   ]
  },
  {
   "cell_type": "code",
   "execution_count": 75,
   "id": "5e7341c9",
   "metadata": {},
   "outputs": [
    {
     "name": "stdout",
     "output_type": "stream",
     "text": [
      "{'messages': [HumanMessage(content='What is the capital of United States?', additional_kwargs={}, response_metadata={}, id='16990c95-9036-41eb-ae69-54eae650f1d8')]}\n",
      "{'messages': [HumanMessage(content='What is the capital of United States?', additional_kwargs={}, response_metadata={}, id='16990c95-9036-41eb-ae69-54eae650f1d8'), AIMessage(content='The capital of the United States is Washington, D.C. (short for District of Columbia).', additional_kwargs={}, response_metadata={'token_usage': {'completion_tokens': 20, 'prompt_tokens': 43, 'total_tokens': 63, 'completion_time': 0.026666667, 'prompt_time': 0.002136493, 'queue_time': 0.219606569, 'total_time': 0.02880316}, 'model_name': 'llama-3.1-8b-instant', 'system_fingerprint': 'fp_0f5c9bc037', 'finish_reason': 'stop', 'logprobs': None}, id='run--ff37b5d9-c0a0-45cb-9186-d5e4d97514b2-0', usage_metadata={'input_tokens': 43, 'output_tokens': 20, 'total_tokens': 63})]}\n"
     ]
    }
   ],
   "source": [
    "#Streaming the response\n",
    "\n",
    "for response in build_graph.stream({\"messages\": [\"What is the capital of United States?\"]}, stream_mode=\"values\"):\n",
    "    print(response)"
   ]
  }
 ],
 "metadata": {
  "kernelspec": {
   "display_name": "langraph",
   "language": "python",
   "name": "python3"
  },
  "language_info": {
   "codemirror_mode": {
    "name": "ipython",
    "version": 3
   },
   "file_extension": ".py",
   "mimetype": "text/x-python",
   "name": "python",
   "nbconvert_exporter": "python",
   "pygments_lexer": "ipython3",
   "version": "3.13.0"
  }
 },
 "nbformat": 4,
 "nbformat_minor": 5
}
