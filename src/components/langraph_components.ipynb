{
 "cells": [
  {
   "cell_type": "markdown",
   "id": "98b82293",
   "metadata": {},
   "source": [
    "# Components\n"
   ]
  },
  {
   "cell_type": "code",
   "execution_count": 138,
   "id": "45bc1b23",
   "metadata": {},
   "outputs": [],
   "source": [
    "#load environment variables from .env file\n",
    "import os \n",
    "from dotenv import load_dotenv\n",
    "load_dotenv()\n",
    "\n",
    "os.environ[\"GROQ_API_KEY\"] = os.getenv(\"GROQ_API_KEY\")\n",
    "\n",
    "\n"
   ]
  },
  {
   "cell_type": "markdown",
   "id": "684bf7a5",
   "metadata": {},
   "source": [
    "## langchain"
   ]
  },
  {
   "cell_type": "code",
   "execution_count": 140,
   "id": "133ab0b2",
   "metadata": {},
   "outputs": [],
   "source": [
    "#Configure the Groq LLM\n",
    "from langchain_groq import ChatGroq \n",
    "\n",
    "llm = ChatGroq(model_name=\"llama-3.1-8b-instant\",temperature=0.7)\n",
    "# uncomment to validate the LLM configuration\n",
    "# llm.invoke(\"What is the capital of Nepal?\") "
   ]
  },
  {
   "cell_type": "code",
   "execution_count": 141,
   "id": "1b4c9a60",
   "metadata": {},
   "outputs": [
    {
     "name": "stdout",
     "output_type": "stream",
     "text": [
      "==================================\u001b[1m Ai Message \u001b[0m==================================\n",
      "Name: LLM\n",
      "\n",
      "I am LangGraph Expert. I can help you with your queries related to LangGraph.\n",
      "================================\u001b[1m Human Message \u001b[0m=================================\n",
      "Name: User\n",
      "\n",
      "What is LangGraph?\n"
     ]
    }
   ],
   "source": [
    "#Example of messages format in LangGraph\n",
    "from langchain_core.messages import AIMessage,HumanMessage\n",
    "\n",
    "messages = [AIMessage(content=f'I am LangGraph Expert. I can help you with your queries related to LangGraph.',name='LLM')]\n",
    "messages.append(HumanMessage(content=f'What is LangGraph?',name='User'))\n",
    "\n",
    "#print the messages\n",
    "for message in messages:\n",
    "    message.pretty_print()\n"
   ]
  },
  {
   "cell_type": "markdown",
   "id": "b1c8ce5b",
   "metadata": {},
   "source": [
    "## Router and Tool\n",
    "### Router helps selecting next step based on the user query\n",
    "### Tool helps performing specific task"
   ]
  },
  {
   "cell_type": "code",
   "execution_count": 142,
   "id": "791a2562",
   "metadata": {},
   "outputs": [],
   "source": [
    "def substract(a:int,b:int)->int:\n",
    "    \"\"\"\n",
    "   Subsctract b from a and return the result.\n",
    "   Args:\n",
    "       a (int): The first number.\n",
    "       b (int): The second number.\n",
    "   Returns:\n",
    "       int: The result of a - b.\n",
    "    \"\"\"\n",
    "    return a-b"
   ]
  },
  {
   "cell_type": "code",
   "execution_count": 143,
   "id": "6776d743",
   "metadata": {},
   "outputs": [
    {
     "name": "stdout",
     "output_type": "stream",
     "text": [
      "\n",
      "[{'name': 'substract', 'args': {'a': 20, 'b': 10}, 'id': '592v5r29x', 'type': 'tool_call'}]\n",
      "I'm functioning properly, thank you for asking. What can I help you with?\n",
      "[]\n"
     ]
    }
   ],
   "source": [
    "### Binding tools \n",
    "tools=llm.bind_tools([substract])\n",
    "messages.append(AIMessage(content=f\"You are a helpful assistant.Do not assume the question, if you don't know the answer, just say it so\",name='LLM'))\n",
    "\n",
    "tool_call=tools.invoke(\"Can you subtract 10 from 20?\")\n",
    "print(tool_call.content) \n",
    "print(tool_call.tool_calls)\n",
    "\n",
    "\n",
    "llm_call=tools.invoke(\"How are you?\")\n",
    "print(llm_call.content)\n",
    "print(llm_call.tool_calls)"
   ]
  },
  {
   "cell_type": "markdown",
   "id": "8ee32ce6",
   "metadata": {},
   "source": [
    "## Creating state\n",
    " - You may try to use data class or pydantic for state"
   ]
  },
  {
   "cell_type": "code",
   "execution_count": 144,
   "id": "81e0f0fe",
   "metadata": {},
   "outputs": [],
   "source": [
    "from typing import TypedDict\n",
    "from typing import Annotated\n",
    "from langgraph.graph.message import AnyMessage,add_messages\n",
    "\n",
    "# annotated will show all the message in the list\n",
    "class State(TypedDict):\n",
    "    messages: Annotated[list[AnyMessage],add_messages]"
   ]
  },
  {
   "cell_type": "code",
   "execution_count": 145,
   "id": "3ccee361",
   "metadata": {},
   "outputs": [
    {
     "data": {
      "text/plain": [
       "[AIMessage(content='I am LangGraph Expert. I can help you with your queries related to LangGraph.', additional_kwargs={}, response_metadata={}, name='LLM', id='36c66085-7ab4-4d08-a7f2-f69657e8f881'),\n",
       " HumanMessage(content='What is LangGraph?', additional_kwargs={}, response_metadata={}, name='User', id='f21c488a-c049-4dff-b188-231d8a199dcf'),\n",
       " AIMessage(content=\"You are a helpful assistant.Do not assume the question, if you don't know the answer, just say it so\", additional_kwargs={}, response_metadata={}, name='LLM', id='68b5ce81-216a-44ff-b20c-e44ddd7fc91d'),\n",
       " AIMessage(content='What is the answer', additional_kwargs={}, response_metadata={}, name='LLM', id='5419b06a-00a6-49da-9255-5910ef419e47')]"
      ]
     },
     "execution_count": 145,
     "metadata": {},
     "output_type": "execute_result"
    }
   ],
   "source": [
    "ai_message=AIMessage(content=f\"What is the answer\",name='LLM')\n",
    "\n",
    "# function of reducer : append the ai_message to the messages\n",
    "add_messages(messages,ai_message)"
   ]
  },
  {
   "cell_type": "code",
   "execution_count": 146,
   "id": "2e1ed8cd",
   "metadata": {},
   "outputs": [],
   "source": [
    "def llm_call(state:State):\n",
    "    return {\"messages\":[tools.invoke(state[\"messages\"])]}"
   ]
  },
  {
   "cell_type": "code",
   "execution_count": 147,
   "id": "435c6ca8",
   "metadata": {},
   "outputs": [
    {
     "data": {
      "image/png": "[encoded data removed]",
      "text/plain": [
       "<IPython.core.display.Image object>"
      ]
     },
     "metadata": {},
     "output_type": "display_data"
    }
   ],
   "source": [
    "# Build State Graph\n",
    "from IPython.display import display,Image\n",
    "from langgraph.graph import StateGraph,START,END\n",
    "\n",
    "build_graph=StateGraph(State)\n",
    "\n",
    "build_graph.add_node(\"llm_call\",llm_call)  \n",
    "build_graph.add_edge(START,\"llm_call\")\n",
    "build_graph.add_edge(\"llm_call\",END)\n",
    "\n",
    "graph=build_graph.compile()\n",
    "display(Image(graph.get_graph().draw_mermaid_png()))"
   ]
  },
  {
   "cell_type": "code",
   "execution_count": 148,
   "id": "b6de541a",
   "metadata": {},
   "outputs": [
    {
     "name": "stdout",
     "output_type": "stream",
     "text": [
      "================================\u001b[1m Human Message \u001b[0m=================================\n",
      "\n",
      "What is 10 minus 2\n",
      "==================================\u001b[1m Ai Message \u001b[0m==================================\n",
      "Tool Calls:\n",
      "  substract (7my5ykfqs)\n",
      " Call ID: 7my5ykfqs\n",
      "  Args:\n",
      "    a: 10\n",
      "    b: 2\n"
     ]
    }
   ],
   "source": [
    "# invoke the graph\n",
    "messages=graph.invoke({\"messages\":\"What is 10 minus 2\"})\n",
    "\n",
    "for message in messages['messages']:\n",
    "    message.pretty_print()"
   ]
  },
  {
   "cell_type": "code",
   "execution_count": 149,
   "id": "28367820",
   "metadata": {},
   "outputs": [
    {
     "data": {
      "image/png": "[encoded data removed]",
      "text/plain": [
       "<IPython.core.display.Image object>"
      ]
     },
     "metadata": {},
     "output_type": "display_data"
    }
   ],
   "source": [
    "from langgraph.prebuilt import ToolNode,tools_condition\n",
    "\n",
    "build_graph=StateGraph(State)\n",
    "tool=[substract]\n",
    "\n",
    "#add nodes\n",
    "build_graph.add_node(\"llm_call\",llm_call)  \n",
    "build_graph.add_node(\"tools\",ToolNode(tool))\n",
    "\n",
    "#add edges\n",
    "build_graph.add_edge(START,\"llm_call\")\n",
    "build_graph.add_conditional_edges(\"llm_call\",tools_condition)\n",
    "build_graph.add_edge(\"tools\",END)\n",
    "\n",
    "graph=build_graph.compile()\n",
    "display(Image(graph.get_graph().draw_mermaid_png()))\n"
   ]
  },
  {
   "cell_type": "code",
   "execution_count": 150,
   "id": "c11e5753",
   "metadata": {},
   "outputs": [
    {
     "name": "stdout",
     "output_type": "stream",
     "text": [
      "================================\u001b[1m Human Message \u001b[0m=================================\n",
      "\n",
      "What is 10 minus 2\n",
      "==================================\u001b[1m Ai Message \u001b[0m==================================\n",
      "Tool Calls:\n",
      "  substract (kn9t55af2)\n",
      " Call ID: kn9t55af2\n",
      "  Args:\n",
      "    a: 10\n",
      "    b: 2\n",
      "=================================\u001b[1m Tool Message \u001b[0m=================================\n",
      "Name: substract\n",
      "\n",
      "8\n"
     ]
    }
   ],
   "source": [
    "# invoke the graph\n",
    "messages=graph.invoke({\"messages\":\"What is 10 minus 2\"})\n",
    "\n",
    "for message in messages['messages']:\n",
    "    message.pretty_print()"
   ]
  },
  {
   "cell_type": "code",
   "execution_count": 151,
   "id": "a5db9689",
   "metadata": {},
   "outputs": [
    {
     "name": "stdout",
     "output_type": "stream",
     "text": [
      "================================\u001b[1m Human Message \u001b[0m=================================\n",
      "\n",
      "What is the capital of the world?\n",
      "==================================\u001b[1m Ai Message \u001b[0m==================================\n",
      "\n",
      "There is no single capital of the world. The world is not a country with a unified government, so it does not have a single capital city. There are many international organizations and institutions with headquarters in cities like New York City, Geneva, and Brussels, but these are not the same as a country's capital.\n",
      "\n",
      "If you're looking for information on a specific country or topic, I'd be happy to try and help you with that!\n"
     ]
    }
   ],
   "source": [
    "# invoke the graph\n",
    "messages=graph.invoke({\"messages\":\"What is the capital of the world?\"})\n",
    "\n",
    "for message in messages['messages']:\n",
    "    message.pretty_print()"
   ]
  }
 ],
 "metadata": {
  "kernelspec": {
   "display_name": "langraph",
   "language": "python",
   "name": "python3"
  },
  "language_info": {
   "codemirror_mode": {
    "name": "ipython",
    "version": 3
   },
   "file_extension": ".py",
   "mimetype": "text/x-python",
   "name": "python",
   "nbconvert_exporter": "python",
   "pygments_lexer": "ipython3",
   "version": "3.13.0"
  }
 },
 "nbformat": 4,
 "nbformat_minor": 5
}
