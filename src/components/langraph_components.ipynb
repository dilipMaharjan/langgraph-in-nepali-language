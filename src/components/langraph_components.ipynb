{
 "cells": [
  {
   "cell_type": "markdown",
   "id": "98b82293",
   "metadata": {},
   "source": [
    "# Components\n"
   ]
  },
  {
   "cell_type": "code",
   "execution_count": 1,
   "id": "45bc1b23",
   "metadata": {},
   "outputs": [],
   "source": [
    "#load environment variables from .env file\n",
    "import os \n",
    "from dotenv import load_dotenv\n",
    "load_dotenv()\n",
    "\n",
    "os.environ[\"GROQ_API_KEY\"] = os.getenv(\"GROQ_API_KEY\")\n",
    "\n",
    "\n"
   ]
  },
  {
   "cell_type": "markdown",
   "id": "684bf7a5",
   "metadata": {},
   "source": [
    "## langchain"
   ]
  },
  {
   "cell_type": "code",
   "execution_count": 2,
   "id": "133ab0b2",
   "metadata": {},
   "outputs": [],
   "source": [
    "#Configure the Groq LLM\n",
    "from langchain_groq import ChatGroq \n",
    "\n",
    "llm = ChatGroq(model_name=\"llama-3.1-8b-instant\",temperature=0.7)\n",
    "# uncomment to validate the LLM configuration\n",
    "# llm.invoke(\"What is the capital of Nepal?\") "
   ]
  },
  {
   "cell_type": "code",
   "execution_count": 3,
   "id": "1b4c9a60",
   "metadata": {},
   "outputs": [
    {
     "name": "stdout",
     "output_type": "stream",
     "text": [
      "==================================\u001b[1m Ai Message \u001b[0m==================================\n",
      "Name: LLM\n",
      "\n",
      "I am LangGraph Expert. I can help you with your queries related to LangGraph.\n",
      "================================\u001b[1m Human Message \u001b[0m=================================\n",
      "Name: User\n",
      "\n",
      "What is LangGraph?\n"
     ]
    }
   ],
   "source": [
    "#Example of messages format in LangGraph\n",
    "from langchain_core.messages import AIMessage,HumanMessage\n",
    "\n",
    "messages = [AIMessage(content=f'I am LangGraph Expert. I can help you with your queries related to LangGraph.',name='LLM')]\n",
    "messages.append(HumanMessage(content=f'What is LangGraph?',name='User'))\n",
    "\n",
    "#print the messages\n",
    "for message in messages:\n",
    "    message.pretty_print()\n"
   ]
  },
  {
   "cell_type": "markdown",
   "id": "b1c8ce5b",
   "metadata": {},
   "source": [
    "## Router and Tool\n",
    "### Router helps selecting next step based on the user query\n",
    "### Tool helps performing specific task"
   ]
  },
  {
   "cell_type": "code",
   "execution_count": 4,
   "id": "791a2562",
   "metadata": {},
   "outputs": [],
   "source": [
    "def substract(a:int,b:int)->int:\n",
    "    \"\"\"\n",
    "   Subsctract b from a and return the result.\n",
    "   Args:\n",
    "       a (int): The first number.\n",
    "       b (int): The second number.\n",
    "   Returns:\n",
    "       int: The result of a - b.\n",
    "    \"\"\"\n",
    "    return a-b"
   ]
  },
  {
   "cell_type": "code",
   "execution_count": 5,
   "id": "6776d743",
   "metadata": {},
   "outputs": [
    {
     "name": "stdout",
     "output_type": "stream",
     "text": [
      "\n",
      "[{'name': 'substract', 'args': {'a': 20, 'b': 10}, 'id': 'dbcreagnj', 'type': 'tool_call'}]\n",
      "I'm functioning properly. How can I assist you today?\n",
      "[]\n"
     ]
    }
   ],
   "source": [
    "### Binding tools \n",
    "tools=llm.bind_tools([substract])\n",
    "messages.append(AIMessage(content=f\"You are a helpful assistant.Do not assume the question, if you don't know the answer, just say it so\",name='LLM'))\n",
    "\n",
    "tool_call=tools.invoke(\"Can you subtract 10 from 20?\")\n",
    "print(tool_call.content) \n",
    "print(tool_call.tool_calls)\n",
    "\n",
    "\n",
    "llm_call=tools.invoke(\"How are you?\")\n",
    "print(llm_call.content)\n",
    "print(llm_call.tool_calls)"
   ]
  },
  {
   "cell_type": "markdown",
   "id": "8ee32ce6",
   "metadata": {},
   "source": [
    "## Creating state\n",
    " - You may try to use data class or pydantic for state"
   ]
  },
  {
   "cell_type": "code",
   "execution_count": 6,
   "id": "81e0f0fe",
   "metadata": {},
   "outputs": [],
   "source": [
    "from typing import TypedDict\n",
    "from typing import Annotated\n",
    "from langgraph.graph.message import AnyMessage,add_messages\n",
    "\n",
    "# annotated will show all the message in the list\n",
    "class State(TypedDict):\n",
    "    messages: Annotated[list[AnyMessage],add_messages]"
   ]
  },
  {
   "cell_type": "code",
   "execution_count": 7,
   "id": "3ccee361",
   "metadata": {},
   "outputs": [
    {
     "data": {
      "text/plain": [
       "[AIMessage(content='I am LangGraph Expert. I can help you with your queries related to LangGraph.', additional_kwargs={}, response_metadata={}, name='LLM', id='67c46379-fdfd-47b4-b16c-ddd411d0b388'),\n",
       " HumanMessage(content='What is LangGraph?', additional_kwargs={}, response_metadata={}, name='User', id='4976cac2-d8fd-4ab2-ac5e-e8c668a557bc'),\n",
       " AIMessage(content=\"You are a helpful assistant.Do not assume the question, if you don't know the answer, just say it so\", additional_kwargs={}, response_metadata={}, name='LLM', id='ccf68ff5-2e1a-412a-8a5f-3859dec5605d'),\n",
       " AIMessage(content='What is the answer', additional_kwargs={}, response_metadata={}, name='LLM', id='50a4c031-8ebb-42be-9ce7-900d98a4b613')]"
      ]
     },
     "execution_count": 7,
     "metadata": {},
     "output_type": "execute_result"
    }
   ],
   "source": [
    "ai_message=AIMessage(content=f\"What is the answer\",name='LLM')\n",
    "\n",
    "# function of reducer : append the ai_message to the messages\n",
    "add_messages(messages,ai_message)"
   ]
  },
  {
   "cell_type": "code",
   "execution_count": 8,
   "id": "2e1ed8cd",
   "metadata": {},
   "outputs": [],
   "source": [
    "def llm_call(state:State):\n",
    "    return {\"messages\":[tools.invoke(state[\"messages\"])]}"
   ]
  },
  {
   "cell_type": "code",
   "execution_count": 9,
   "id": "435c6ca8",
   "metadata": {},
   "outputs": [
    {
     "data": {
      "image/png": "[encoded data removed]",
      "text/plain": [
       "<IPython.core.display.Image object>"
      ]
     },
     "metadata": {},
     "output_type": "display_data"
    }
   ],
   "source": [
    "# Build State Graph\n",
    "from IPython.display import display,Image\n",
    "from langgraph.graph import StateGraph,START,END\n",
    "\n",
    "build_graph=StateGraph(State)\n",
    "\n",
    "build_graph.add_node(\"llm_call\",llm_call)  \n",
    "build_graph.add_edge(START,\"llm_call\")\n",
    "build_graph.add_edge(\"llm_call\",END)\n",
    "\n",
    "graph=build_graph.compile()\n",
    "display(Image(graph.get_graph().draw_mermaid_png()))"
   ]
  },
  {
   "cell_type": "code",
   "execution_count": 10,
   "id": "b6de541a",
   "metadata": {},
   "outputs": [
    {
     "name": "stdout",
     "output_type": "stream",
     "text": [
      "================================\u001b[1m Human Message \u001b[0m=================================\n",
      "\n",
      "What is 10 minus 2\n",
      "==================================\u001b[1m Ai Message \u001b[0m==================================\n",
      "Tool Calls:\n",
      "  substract (a2gvshfb6)\n",
      " Call ID: a2gvshfb6\n",
      "  Args:\n",
      "    a: 10\n",
      "    b: 2\n"
     ]
    }
   ],
   "source": [
    "# invoke the graph\n",
    "messages=graph.invoke({\"messages\":\"What is 10 minus 2\"})\n",
    "\n",
    "for message in messages['messages']:\n",
    "    message.pretty_print()"
   ]
  },
  {
   "cell_type": "code",
   "execution_count": 11,
   "id": "28367820",
   "metadata": {},
   "outputs": [
    {
     "data": {
      "image/png": "[encoded data removed]",
      "text/plain": [
       "<IPython.core.display.Image object>"
      ]
     },
     "metadata": {},
     "output_type": "display_data"
    }
   ],
   "source": [
    "from langgraph.prebuilt import ToolNode,tools_condition\n",
    "\n",
    "build_graph=StateGraph(State)\n",
    "tool=[substract]\n",
    "\n",
    "#add nodes\n",
    "build_graph.add_node(\"llm_call\",llm_call)  \n",
    "build_graph.add_node(\"tools\",ToolNode(tool))\n",
    "\n",
    "#add edges\n",
    "build_graph.add_edge(START,\"llm_call\")\n",
    "build_graph.add_conditional_edges(\"llm_call\",tools_condition)\n",
    "build_graph.add_edge(\"tools\",END)\n",
    "\n",
    "graph=build_graph.compile()\n",
    "display(Image(graph.get_graph().draw_mermaid_png()))\n"
   ]
  },
  {
   "cell_type": "code",
   "execution_count": 12,
   "id": "c11e5753",
   "metadata": {},
   "outputs": [
    {
     "name": "stdout",
     "output_type": "stream",
     "text": [
      "================================\u001b[1m Human Message \u001b[0m=================================\n",
      "\n",
      "What is 10 minus 2\n",
      "==================================\u001b[1m Ai Message \u001b[0m==================================\n",
      "Tool Calls:\n",
      "  substract (4dcrtq54z)\n",
      " Call ID: 4dcrtq54z\n",
      "  Args:\n",
      "    a: 10\n",
      "    b: 2\n",
      "=================================\u001b[1m Tool Message \u001b[0m=================================\n",
      "Name: substract\n",
      "\n",
      "8\n"
     ]
    }
   ],
   "source": [
    "# invoke the graph\n",
    "messages=graph.invoke({\"messages\":\"What is 10 minus 2\"})\n",
    "\n",
    "for message in messages['messages']:\n",
    "    message.pretty_print()"
   ]
  },
  {
   "cell_type": "code",
   "execution_count": 13,
   "id": "a5db9689",
   "metadata": {},
   "outputs": [
    {
     "name": "stdout",
     "output_type": "stream",
     "text": [
      "================================\u001b[1m Human Message \u001b[0m=================================\n",
      "\n",
      "What is the capital of the world?\n",
      "==================================\u001b[1m Ai Message \u001b[0m==================================\n",
      "\n",
      "There is no single capital of the world. However, the United Nations (UN) has its headquarters in New York City, but it is not considered a country. The city with the most diplomatic missions, representing the most countries, is Vienna, Austria.\n"
     ]
    }
   ],
   "source": [
    "# invoke the graph\n",
    "messages=graph.invoke({\"messages\":\"What is the capital of the world?\"})\n",
    "\n",
    "for message in messages['messages']:\n",
    "    message.pretty_print()"
   ]
  },
  {
   "cell_type": "markdown",
   "id": "25c9848d",
   "metadata": {},
   "source": [
    "## Multiple Tools Integration"
   ]
  },
  {
   "cell_type": "code",
   "execution_count": 14,
   "id": "3c4fe458",
   "metadata": {},
   "outputs": [],
   "source": [
    "from langchain_community.tools import ArxivQueryRun,WikipediaQueryRun\n",
    "from langchain_community.utilities import ArxivAPIWrapper,WikipediaAPIWrapper \n"
   ]
  },
  {
   "cell_type": "code",
   "execution_count": 15,
   "id": "767db919",
   "metadata": {},
   "outputs": [
    {
     "name": "stdout",
     "output_type": "stream",
     "text": [
      "arxiv\n"
     ]
    },
    {
     "data": {
      "text/plain": [
       "'Published: 2021-10-30\\nTitle: Love tHy Neighbour: Remeasuring Local Structural Node Similarity in Hypergraph-Derived Networks\\nAuthors: Govind Sharma, Paarth Gupta, M. Narasihma Murty\\nSummary: The problem of node-similarity in networks has motivated a plethora of such\\nmeasures between node-pairs, which make use of the underlying graph structure.\\nHowever, higher-order relations cannot be losslessly captured by mere graphs\\nand hence, extensions thereof viz. hypergraphs are used instead. Measuring\\npr'"
      ]
     },
     "execution_count": 15,
     "metadata": {},
     "output_type": "execute_result"
    }
   ],
   "source": [
    "arxiv_wrapper_api=ArxivAPIWrapper(top_k_results=2,doc_content_chars_max=500)\n",
    "arxiv=ArxivQueryRun(api_wrapper=arxiv_wrapper_api)\n",
    "print(arxiv.name)\n",
    "arxiv.invoke(\"Love thy neighbour\")"
   ]
  },
  {
   "cell_type": "code",
   "execution_count": 16,
   "id": "31d1e84f",
   "metadata": {},
   "outputs": [
    {
     "name": "stdout",
     "output_type": "stream",
     "text": [
      "wikipedia\n"
     ]
    },
    {
     "data": {
      "text/plain": [
       "'Page: List of people claimed to be Jesus\\nSummary: This is a partial list of notable people who have been claimed, either by themselves or by their followers, to be the reincarnation or incarnation of Jesus, or the Second Coming of Christ.\\n\\n'"
      ]
     },
     "execution_count": 16,
     "metadata": {},
     "output_type": "execute_result"
    }
   ],
   "source": [
    "wiki_wrapper_api=WikipediaAPIWrapper(top_k_results=1,doc_content_chars_max=500)\n",
    "wiki=WikipediaQueryRun(api_wrapper=wiki_wrapper_api)\n",
    "print(wiki.name)\n",
    "wiki.invoke(\"Who is Jesus Christ.\")"
   ]
  },
  {
   "cell_type": "code",
   "execution_count": 17,
   "id": "959d81d6",
   "metadata": {},
   "outputs": [],
   "source": [
    "#tools list\n",
    "tools=[arxiv,wiki]\n",
    "\n",
    "#bind it with llm\n",
    "llm_with_tools=llm.bind_tools(tools)"
   ]
  },
  {
   "cell_type": "code",
   "execution_count": 18,
   "id": "4628e257",
   "metadata": {},
   "outputs": [
    {
     "data": {
      "text/plain": [
       "AIMessage(content='', additional_kwargs={'tool_calls': [{'id': '53pwdwk7f', 'function': {'arguments': '{\"query\":\"Jesus Christ\"}', 'name': 'wikipedia'}, 'type': 'function'}]}, response_metadata={'token_usage': {'completion_tokens': 15, 'prompt_tokens': 435, 'total_tokens': 450, 'completion_time': 0.029266959, 'prompt_time': 0.393614697, 'queue_time': 0.21794126399999997, 'total_time': 0.422881656}, 'model_name': 'llama-3.1-8b-instant', 'system_fingerprint': 'fp_c523237e5d', 'finish_reason': 'tool_calls', 'logprobs': None}, id='run--28aad7c8-f334-40ce-b960-192054b9e0a7-0', tool_calls=[{'name': 'wikipedia', 'args': {'query': 'Jesus Christ'}, 'id': '53pwdwk7f', 'type': 'tool_call'}], usage_metadata={'input_tokens': 435, 'output_tokens': 15, 'total_tokens': 450})"
      ]
     },
     "execution_count": 18,
     "metadata": {},
     "output_type": "execute_result"
    }
   ],
   "source": [
    "llm_with_tools.invoke([HumanMessage(content=f\"Who is Jesus Christ?\") ])"
   ]
  },
  {
   "cell_type": "code",
   "execution_count": 19,
   "id": "09e3a49c",
   "metadata": {},
   "outputs": [
    {
     "data": {
      "text/plain": [
       "AIMessage(content='', additional_kwargs={'tool_calls': [{'id': 'gn4fmhp6j', 'function': {'arguments': '{\"query\":\"Love thy neighbour\"}', 'name': 'arxiv'}, 'type': 'function'}]}, response_metadata={'token_usage': {'completion_tokens': 17, 'prompt_tokens': 438, 'total_tokens': 455, 'completion_time': 0.028577168, 'prompt_time': 0.033443435, 'queue_time': 0.21815165100000003, 'total_time': 0.062020603}, 'model_name': 'llama-3.1-8b-instant', 'system_fingerprint': 'fp_c523237e5d', 'finish_reason': 'tool_calls', 'logprobs': None}, id='run--d1dc6ae1-0e79-4f5f-a6ce-10cb7c8d1ad1-0', tool_calls=[{'name': 'arxiv', 'args': {'query': 'Love thy neighbour'}, 'id': 'gn4fmhp6j', 'type': 'tool_call'}], usage_metadata={'input_tokens': 438, 'output_tokens': 17, 'total_tokens': 455})"
      ]
     },
     "execution_count": 19,
     "metadata": {},
     "output_type": "execute_result"
    }
   ],
   "source": [
    "llm_with_tools.invoke([HumanMessage(content=f\"Any research on 'Love they neighbour'\") ])"
   ]
  },
  {
   "cell_type": "code",
   "execution_count": 20,
   "id": "b49dfc54",
   "metadata": {},
   "outputs": [
    {
     "data": {
      "text/plain": [
       "AIMessage(content='I\\'m an artificial intelligence model known as Llama. Llama stands for \"Large Language Model Meta AI.\"', additional_kwargs={}, response_metadata={'token_usage': {'completion_tokens': 23, 'prompt_tokens': 434, 'total_tokens': 457, 'completion_time': 0.030666667, 'prompt_time': 0.031554689, 'queue_time': 0.21892929800000002, 'total_time': 0.062221356}, 'model_name': 'llama-3.1-8b-instant', 'system_fingerprint': 'fp_c523237e5d', 'finish_reason': 'stop', 'logprobs': None}, id='run--bb6ba83e-9970-432b-bd75-0d94be6d7553-0', usage_metadata={'input_tokens': 434, 'output_tokens': 23, 'total_tokens': 457})"
      ]
     },
     "execution_count": 20,
     "metadata": {},
     "output_type": "execute_result"
    }
   ],
   "source": [
    "llm_with_tools.invoke([HumanMessage(content=f\"Who are you?\") ])"
   ]
  },
  {
   "cell_type": "code",
   "execution_count": 21,
   "id": "36874132",
   "metadata": {},
   "outputs": [],
   "source": [
    "def tool_calling_llm(state:State):\n",
    "    return {\"messages\":[llm_with_tools.invoke(state[\"messages\"])]}\n",
    "    "
   ]
  },
  {
   "cell_type": "code",
   "execution_count": 22,
   "id": "414c597f",
   "metadata": {},
   "outputs": [
    {
     "data": {
      "image/png": "[encoded data removed]",
      "text/plain": [
       "<IPython.core.display.Image object>"
      ]
     },
     "metadata": {},
     "output_type": "display_data"
    }
   ],
   "source": [
    "#Node\n",
    "graph = StateGraph(State)\n",
    "\n",
    "#add nodes\n",
    "graph.add_node(\"tool_calling_llm\",tool_calling_llm)  \n",
    "graph.add_node(\"tools\",ToolNode(tools))\n",
    "\n",
    "#add edges\n",
    "graph.add_edge(START,\"tool_calling_llm\")\n",
    "graph.add_conditional_edges(\"tool_calling_llm\",tools_condition)\n",
    "graph.add_edge(\"tools\",END)\n",
    "\n",
    "graph=graph.compile()\n",
    "display(Image(graph.get_graph().draw_mermaid_png()))\n"
   ]
  },
  {
   "cell_type": "code",
   "execution_count": 23,
   "id": "02e9c73d",
   "metadata": {},
   "outputs": [
    {
     "name": "stdout",
     "output_type": "stream",
     "text": [
      "================================\u001b[1m Human Message \u001b[0m=================================\n",
      "\n",
      "Who is Jesus Christ?\n",
      "==================================\u001b[1m Ai Message \u001b[0m==================================\n",
      "Tool Calls:\n",
      "  wikipedia (rv7h8ajh5)\n",
      " Call ID: rv7h8ajh5\n",
      "  Args:\n",
      "    query: Jesus Christ\n",
      "=================================\u001b[1m Tool Message \u001b[0m=================================\n",
      "Name: wikipedia\n",
      "\n",
      "Page: Jesus\n",
      "Summary: Jesus (c. 6 to 4 BC – AD 30 or 33), also referred to as Jesus Christ, Jesus of Nazareth, and many other names and titles, was a 1st-century Jewish preacher and religious leader. He is the central figure of Christianity, the world's largest religion. Most Christians consider Jesus to be the incarnation of God the Son and awaited messiah, or Christ, a descendant from the Davidic line that is prophesied in the Old Testament. Virtually all modern scholars of antiquity agree that\n"
     ]
    }
   ],
   "source": [
    "messages=graph.invoke({\"messages\":HumanMessage(content=f\"Who is Jesus Christ?\")})\n",
    "for message in messages['messages']:\n",
    "    message.pretty_print()"
   ]
  },
  {
   "cell_type": "code",
   "execution_count": 24,
   "id": "c72b98f0",
   "metadata": {},
   "outputs": [
    {
     "name": "stdout",
     "output_type": "stream",
     "text": [
      "================================\u001b[1m Human Message \u001b[0m=================================\n",
      "\n",
      "Who are you?\n",
      "==================================\u001b[1m Ai Message \u001b[0m==================================\n",
      "\n",
      "I'm an artificial intelligence model known as Llama. Llama stands for \"Large Language Model Meta AI.\"\n"
     ]
    }
   ],
   "source": [
    "messages=graph.invoke({\"messages\":HumanMessage(content=f\"Who are you?\")})\n",
    "for message in messages['messages']:\n",
    "    message.pretty_print()"
   ]
  },
  {
   "cell_type": "code",
   "execution_count": 25,
   "id": "6b9b0806",
   "metadata": {},
   "outputs": [
    {
     "name": "stdout",
     "output_type": "stream",
     "text": [
      "================================\u001b[1m Human Message \u001b[0m=================================\n",
      "\n",
      "Any research on existinence of Aliens?\n",
      "==================================\u001b[1m Ai Message \u001b[0m==================================\n",
      "Tool Calls:\n",
      "  arxiv (pgr3ejthn)\n",
      " Call ID: pgr3ejthn\n",
      "  Args:\n",
      "    query: existence of aliens\n",
      "=================================\u001b[1m Tool Message \u001b[0m=================================\n",
      "Name: arxiv\n",
      "\n",
      "Published: 2023-01-06\n",
      "Title: Oumuamua Is Not a Probe Sent to our Solar System by an Alien Civilization\n",
      "Authors: Ben Zuckerman\n",
      "Summary: Oumuamua, the first known object of extrasolar origin seen to enter our Solar\n",
      "System, has multiple unusual characteristics that, taken together, are very\n",
      "difficult to explain with conventional astronomical entities like asteroids and\n",
      "comets. Consequently, it has been hypothesized that Oumuamua is an interstellar\n",
      "probe that was constructed by an alien civilization\n"
     ]
    }
   ],
   "source": [
    "messages=graph.invoke({\"messages\":HumanMessage(content=f\"Any research on existinence of Aliens?\")})\n",
    "for message in messages['messages']:\n",
    "    message.pretty_print()"
   ]
  },
  {
   "cell_type": "markdown",
   "id": "36521a7a",
   "metadata": {},
   "source": [
    "### ReAct Agent Architecture\n",
    "- Used to develop complex Agent\n",
    "- ReAct : General Agent architecure\n",
    "    - Act: The model based on specific input calls specific tool\n",
    "    - Observe: Passes tool output back to the model\n",
    "    - Reason: The model will reason based on the output response from the tool to make next step\n"
   ]
  },
  {
   "cell_type": "code",
   "execution_count": 26,
   "id": "c7f6de63",
   "metadata": {},
   "outputs": [],
   "source": [
    "# Custom functions\n",
    "def multiply(a:int, b:int)->int:\n",
    "    \"\"\"Multiplys two numbers\n",
    "\n",
    "    Args:\n",
    "        a (int): first number\n",
    "        b (int): second number\n",
    "\n",
    "    Returns:\n",
    "        int: result\n",
    "    \"\"\"\n",
    "    return a*b\n",
    "\n",
    "def add(a:int, b:int)->int:\n",
    "    \"\"\"Adds two numbers\n",
    "\n",
    "    Args:\n",
    "        a (int): first number\n",
    "        b (int): second number\n",
    "\n",
    "    Returns:\n",
    "        int: result\n",
    "    \"\"\"\n",
    "    return a+b"
   ]
  },
  {
   "cell_type": "code",
   "execution_count": 27,
   "id": "d0f464e8",
   "metadata": {},
   "outputs": [
    {
     "data": {
      "text/plain": [
       "AIMessage(content='I\\'m an artificial intelligence model known as Llama. Llama stands for \"Large Language Model Meta AI.\"', additional_kwargs={}, response_metadata={'token_usage': {'completion_tokens': 23, 'prompt_tokens': 558, 'total_tokens': 581, 'completion_time': 0.030666667, 'prompt_time': 0.033552562, 'queue_time': 0.219203182, 'total_time': 0.064219229}, 'model_name': 'llama-3.1-8b-instant', 'system_fingerprint': 'fp_c523237e5d', 'finish_reason': 'stop', 'logprobs': None}, id='run--116b829b-16a9-4855-8992-1d9e5b167a57-0', usage_metadata={'input_tokens': 558, 'output_tokens': 23, 'total_tokens': 581})"
      ]
     },
     "execution_count": 27,
     "metadata": {},
     "output_type": "execute_result"
    }
   ],
   "source": [
    "#tools list\n",
    "tools=[arxiv,wiki,multiply,add]\n",
    "\n",
    "#bind it with llm\n",
    "llm_with_tools=llm.bind_tools(tools)\n",
    "# llm_with_tools.invoke([HumanMessage(content=f\"Any research on existinence of Aliens?\") ])\n",
    "\n",
    "# llm_with_tools.invoke([HumanMessage(content=f\"Who is Nelson Mandela?\") ])\n",
    "# llm_with_tools.invoke([HumanMessage(content=f\"Multilply 2 by 3\") ])\n",
    "# llm_with_tools.invoke([HumanMessage(content=f\"Add 2 and 4\")])\n",
    "llm_with_tools.invoke([HumanMessage(content=f\"Who are you?\")])"
   ]
  },
  {
   "cell_type": "code",
   "execution_count": 28,
   "id": "1dc00981",
   "metadata": {},
   "outputs": [
    {
     "data": {
      "image/png": "[encoded data removed]",
      "text/plain": [
       "<IPython.core.display.Image object>"
      ]
     },
     "metadata": {},
     "output_type": "display_data"
    }
   ],
   "source": [
    "class State(TypedDict):\n",
    "    messages: Annotated[list[AnyMessage],add_messages]\n",
    "    \n",
    "def tool_calling_llm(state:State):\n",
    "    return {\"messages\":[llm_with_tools.invoke(state[\"messages\"])]}\n",
    "\n",
    "# Build graph\n",
    "graph = StateGraph(State)\n",
    "\n",
    "# Add nodes\n",
    "graph.add_node(\"tool_calling_llm\",tool_calling_llm)\n",
    "graph.add_node(\"tools\",ToolNode(tools))\n",
    "\n",
    "# Add edges        \n",
    "graph.add_edge(START,\"tool_calling_llm\")\n",
    "graph.add_conditional_edges(\"tool_calling_llm\",tools_condition)\n",
    "graph.add_edge(\"tools\",\"tool_calling_llm\")\n",
    "\n",
    "graph=graph.compile()\n",
    "display(Image(graph.get_graph().draw_mermaid_png()))"
   ]
  },
  {
   "cell_type": "code",
   "execution_count": 29,
   "id": "277528fd",
   "metadata": {},
   "outputs": [
    {
     "name": "stdout",
     "output_type": "stream",
     "text": [
      "================================\u001b[1m Human Message \u001b[0m=================================\n",
      "\n",
      "Any research on existinence of Aliens then summarize in 1 sentence?\n",
      "==================================\u001b[1m Ai Message \u001b[0m==================================\n",
      "Tool Calls:\n",
      "  arxiv (dpmnqc0k2)\n",
      " Call ID: dpmnqc0k2\n",
      "  Args:\n",
      "    query: alien existence research\n",
      "  wikipedia (504khg6hd)\n",
      " Call ID: 504khg6hd\n",
      "  Args:\n",
      "    query: alien existence research summary\n",
      "  wikipedia (e350fwqkw)\n",
      " Call ID: e350fwqkw\n",
      "  Args:\n",
      "    query: SETI Institute\n",
      "  wikipedia (tw9raffw7)\n",
      " Call ID: tw9raffw7\n",
      "  Args:\n",
      "    query: Fermi Paradox\n",
      "=================================\u001b[1m Tool Message \u001b[0m=================================\n",
      "Name: arxiv\n",
      "\n",
      "Published: 2023-03-11\n",
      "Title: Analysing ecological dynamics with relational event models: the case of biological invasions\n",
      "Authors: Rūta Juozaitienė, Hanno Seebens, Guillaume Latombe, Franz Essl, Ernst C. Wit\n",
      "Summary: Aim: Spatio-temporal processes play a key role in ecology, from genes to\n",
      "large-scale macroecological and biogeographical processes. Existing methods\n",
      "studying such spatio-temporally structured data either simplify the dynamic\n",
      "structure or the complex interactions of ecological driver\n",
      "=================================\u001b[1m Tool Message \u001b[0m=================================\n",
      "Name: wikipedia\n",
      "\n",
      "Page: Alien hand syndrome\n",
      "Summary: Alien hand syndrome (AHS) or Dr. Strangelove syndrome is a category of conditions in which a person experiences their limbs acting seemingly on their own, without conscious control over the actions. There are a variety of clinical conditions that fall under this category, most commonly affecting the left hand. There are many similar terms for the various forms of the condition, but they are often used inappropriately. The affected person may sometimes reach for\n",
      "=================================\u001b[1m Tool Message \u001b[0m=================================\n",
      "Name: wikipedia\n",
      "\n",
      "Page: SETI Institute\n",
      "Summary: The SETI Institute is a not-for-profit research organization incorporated in 1984 whose mission is to explore, understand, and explain the origin and nature of life in the universe, and to use this knowledge to inspire and guide present and future generations, sharing knowledge with the public, the press, and the government. SETI stands for the \"search for extraterrestrial intelligence\".\n",
      "The institute consists of three primary centers: The Carl Sagan Center, devoted\n",
      "=================================\u001b[1m Tool Message \u001b[0m=================================\n",
      "Name: wikipedia\n",
      "\n",
      "Page: Fermi paradox\n",
      "Summary: The Fermi paradox is the discrepancy between the lack of conclusive evidence of advanced extraterrestrial life and the apparently high likelihood of its existence. Those affirming the paradox generally conclude that if the conditions required for life to arise from non-living matter are as permissive as the available evidence on Earth indicates, then extraterrestrial life would be sufficiently common such that it would be implausible for it not to have been detected.\n",
      "==================================\u001b[1m Ai Message \u001b[0m==================================\n",
      "Tool Calls:\n",
      "  add (4sdkmx8hv)\n",
      " Call ID: 4sdkmx8hv\n",
      "  Args:\n",
      "    a: 100\n",
      "    b: 100\n",
      "=================================\u001b[1m Tool Message \u001b[0m=================================\n",
      "Name: add\n",
      "\n",
      "200\n",
      "==================================\u001b[1m Ai Message \u001b[0m==================================\n",
      "\n",
      "The existence of aliens is a topic of ongoing research and debate. While there is currently no conclusive evidence of alien life, there are many theories and hypotheses that suggest the possibility of extraterrestrial life existing in the universe.\n",
      "================================\u001b[1m Human Message \u001b[0m=================================\n",
      "\n",
      "Who are you?\n",
      "==================================\u001b[1m Ai Message \u001b[0m==================================\n",
      "\n",
      "I'm an artificial intelligence model known as Llama. Llama stands for \"Large Language Model Meta AI.\"\n"
     ]
    }
   ],
   "source": [
    "messages=graph.invoke({\"messages\":HumanMessage(content=f\"Any research on existinence of Aliens then summarize in 1 sentence?\")})\n",
    "for message in messages['messages']:\n",
    "    message.pretty_print()\n",
    "\n",
    "messages=graph.invoke({\"messages\":HumanMessage(content=f\"Who are you?\")})\n",
    "for message in messages['messages']:\n",
    "    message.pretty_print()"
   ]
  },
  {
   "cell_type": "markdown",
   "id": "7f1e2aaf",
   "metadata": {},
   "source": [
    "### Memory\n",
    "- Can automatically save graph state after each step by using checkpointer\n",
    "- Built in persistence layer allows langgraph to pick up from the last state update\n",
    "- Easier checkpoint to use is MemorySaver, an in memory key-value store for Graph State\n",
    "- All we need to do is simple compile graph with a checkointer"
   ]
  }
 ],
 "metadata": {
  "kernelspec": {
   "display_name": "langraph",
   "language": "python",
   "name": "python3"
  },
  "language_info": {
   "codemirror_mode": {
    "name": "ipython",
    "version": 3
   },
   "file_extension": ".py",
   "mimetype": "text/x-python",
   "name": "python",
   "nbconvert_exporter": "python",
   "pygments_lexer": "ipython3",
   "version": "3.13.0"
  }
 },
 "nbformat": 4,
 "nbformat_minor": 5
}
