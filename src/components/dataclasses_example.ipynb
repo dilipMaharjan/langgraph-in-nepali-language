{
 "cells": [
  {
   "cell_type": "markdown",
   "id": "a91be60a",
   "metadata": {},
   "source": [
    "## LangGraph Simple Work Flow\n",
    "\n",
    "### Data Classes are another way to achieve similar as TypeDict\n",
    "\n",
    "### State\n",
    "    The State schema serves as the input schema for all Nodes and Edges in the graph."
   ]
  },
  {
   "cell_type": "code",
   "execution_count": 12,
   "id": "d9b3fd52",
   "metadata": {},
   "outputs": [],
   "source": [
    "from dataclasses import dataclass\n",
    "\n",
    "@dataclass\n",
    "class DataClassState():\n",
    "    \"\"\"Represents the state of the graph.\"\"\"\n",
    "    graph_info:str\n",
    "    "
   ]
  },
  {
   "cell_type": "markdown",
   "id": "0a8b5f0c",
   "metadata": {},
   "source": [
    "### Node\n",
    "    Nodes are just python functions.\n",
    "    The first positional argument is the state, as defined above."
   ]
  },
  {
   "cell_type": "code",
   "execution_count": 13,
   "id": "c1e7a56b",
   "metadata": {},
   "outputs": [],
   "source": [
    "def start_play(state:DataClassState):\n",
    "    \"\"\"Start playing the game.\"\"\"\n",
    "    return {\"graph_info\": f\"{state.graph_info} - Game started!\"}\n",
    "\n",
    "def soccer(state:DataClassState):\n",
    "    \"\"\"Start playing soccer game.\"\"\"\n",
    "    return {\"graph_info\": f\"{state.graph_info} - Soccer started!\"}\n",
    "\n",
    "def basketball(state:DataClassState):\n",
    "    \"\"\"Start playing Basketball game.\"\"\"\n",
    "    return {\"graph_info\":f\"{state.graph_info} - Basketball started!\"}\n"
   ]
  },
  {
   "cell_type": "code",
   "execution_count": 14,
   "id": "47419446",
   "metadata": {},
   "outputs": [],
   "source": [
    "import random\n",
    "\n",
    "from typing import Literal\n",
    "def random_game(state:DataClassState)->Literal[\"soccer\", \"basketball\"]:\n",
    "    \"\"\"Randomly choose a game to play.\"\"\"\n",
    "    graph_info = state.graph_info\n",
    "    \n",
    "    if random.random()>0.5:\n",
    "        return \"soccer\"\n",
    "    else:\n",
    "        return \"basketball\""
   ]
  },
  {
   "cell_type": "markdown",
   "id": "2c12df49",
   "metadata": {},
   "source": [
    "### Graph Construction\n",
    "        Building graph based on components defined above."
   ]
  },
  {
   "cell_type": "code",
   "execution_count": 15,
   "id": "4d85fd6b",
   "metadata": {},
   "outputs": [
    {
     "name": "stdout",
     "output_type": "stream",
     "text": [
      "<function random_game at 0x1200f8ae0>\n"
     ]
    },
    {
     "data": {
      "image/png": "[encoded data removed]",
      "text/plain": [
       "<IPython.core.display.Image object>"
      ]
     },
     "metadata": {},
     "output_type": "display_data"
    }
   ],
   "source": [
    "from IPython.display import display, Image\n",
    "from langgraph.graph import StateGraph, START, END\n",
    "\n",
    "#Building the graph\n",
    "graph=StateGraph(DataClassState)\n",
    "\n",
    "# Adding nodes to the graph\n",
    "graph.add_node(\"start_play\", start_play)\n",
    "graph.add_node(\"soccer\", soccer)\n",
    "graph.add_node(\"basketball\", basketball)\n",
    "\n",
    "#Flow of the graph\n",
    "graph.add_edge(START, \"start_play\")\n",
    "print(random_game)\n",
    "graph.add_conditional_edges(\"start_play\", random_game)\n",
    "graph.add_edge(\"soccer\", END)\n",
    "graph.add_edge(\"basketball\", END)\n",
    "\n",
    "#compile the graph\n",
    "build_graph = graph.compile()\n",
    "\n",
    "# Display the graph\n",
    "display(Image(build_graph.get_graph().draw_mermaid_png()))\n"
   ]
  },
  {
   "cell_type": "code",
   "execution_count": 30,
   "id": "01baab16",
   "metadata": {},
   "outputs": [
    {
     "data": {
      "text/plain": [
       "{'graph_info': 'Starting the game! - Game started! - Basketball started!'}"
      ]
     },
     "execution_count": 30,
     "metadata": {},
     "output_type": "execute_result"
    }
   ],
   "source": [
    "#Graph Invocation\n",
    "build_graph.invoke(DataClassState(graph_info=\"Starting the game!\"))"
   ]
  }
 ],
 "metadata": {
  "kernelspec": {
   "display_name": "langraph",
   "language": "python",
   "name": "python3"
  },
  "language_info": {
   "codemirror_mode": {
    "name": "ipython",
    "version": 3
   },
   "file_extension": ".py",
   "mimetype": "text/x-python",
   "name": "python",
   "nbconvert_exporter": "python",
   "pygments_lexer": "ipython3",
   "version": "3.13.0"
  }
 },
 "nbformat": 4,
 "nbformat_minor": 5
}
